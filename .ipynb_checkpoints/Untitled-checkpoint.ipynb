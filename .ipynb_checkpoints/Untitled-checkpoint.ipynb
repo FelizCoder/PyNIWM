{
 "cells": [
  {
   "cell_type": "code",
   "execution_count": 2,
   "id": "6391efe8",
   "metadata": {},
   "outputs": [],
   "source": [
    "# imports\n",
    "from utils import *"
   ]
  },
  {
   "cell_type": "code",
   "execution_count": 30,
   "id": "aaa5def3",
   "metadata": {},
   "outputs": [],
   "source": [
    "np.random.seed(37)"
   ]
  },
  {
   "cell_type": "code",
   "execution_count": 32,
   "id": "b4f8d276",
   "metadata": {},
   "outputs": [
    {
     "data": {
      "text/plain": [
       "array([17897, 16772,   985, 19085, 10843, 10073, 15131, 17428,  7833,\n",
       "       16629])"
      ]
     },
     "execution_count": 32,
     "metadata": {},
     "output_type": "execute_result"
    }
   ],
   "source": [
    "np.random.randint(1,20000, 10)"
   ]
  },
  {
   "cell_type": "code",
   "execution_count": 20,
   "id": "d8324d9e",
   "metadata": {},
   "outputs": [],
   "source": [
    "[ 1936,  9037,   989,  4119, 11899,  6596, 10585, 10968, 18400,\n",
    "       12351"
   ]
  },
  {
   "cell_type": "code",
   "execution_count": 23,
   "id": "322113f4",
   "metadata": {},
   "outputs": [],
   "source": [
    "array([17897, 16772,   985, 19085, 10843, 10073, 15131, 17428,  7833,\n",
    "       16629])"
   ]
  },
  {
   "cell_type": "code",
   "execution_count": 5,
   "id": "e128fcf7",
   "metadata": {},
   "outputs": [],
   "source": [
    "results= pd.read_pickle('cv_results_seed{}'.format(1))\n"
   ]
  },
  {
   "cell_type": "code",
   "execution_count": 6,
   "id": "a1d94a6a",
   "metadata": {},
   "outputs": [],
   "source": [
    "best_ixes = results.groupby('algorithm')['avg_f1score'].idxmax().sort_values().values\n",
    "best_models = results.loc[best_ixes].drop(columns=['avg_f1score','time','oof_preds'])"
   ]
  },
  {
   "cell_type": "code",
   "execution_count": null,
   "id": "8c672c83",
   "metadata": {},
   "outputs": [],
   "source": []
  },
  {
   "cell_type": "code",
   "execution_count": null,
   "id": "8c001bc0",
   "metadata": {},
   "outputs": [],
   "source": []
  }
 ],
 "metadata": {
  "kernelspec": {
   "display_name": "my-conda-env-kernel",
   "language": "python",
   "name": "my-conda-env-kernel"
  },
  "language_info": {
   "codemirror_mode": {
    "name": "ipython",
    "version": 3
   },
   "file_extension": ".py",
   "mimetype": "text/x-python",
   "name": "python",
   "nbconvert_exporter": "python",
   "pygments_lexer": "ipython3",
   "version": "3.9.4"
  }
 },
 "nbformat": 4,
 "nbformat_minor": 5
}
