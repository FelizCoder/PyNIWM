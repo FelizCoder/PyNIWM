{
 "cells": [
  {
   "cell_type": "code",
   "execution_count": 5,
   "id": "5ddb278b",
   "metadata": {},
   "outputs": [],
   "source": [
    "# imports\n",
    "from utils import *"
   ]
  },
  {
   "cell_type": "code",
   "execution_count": 2,
   "id": "9c2dc72c",
   "metadata": {},
   "outputs": [],
   "source": [
    "# read the configuration file and initialize random generators\n",
    "cfg = read_config('configfiles/config.yaml')\n",
    "seeds = read_config('configfiles/seed_config.yaml')\n",
    "initalize_random_generators(cfg)"
   ]
  },
  {
   "cell_type": "markdown",
   "id": "9fd176df",
   "metadata": {},
   "source": [
    "# Data loading and processing"
   ]
  },
  {
   "cell_type": "code",
   "execution_count": 3,
   "id": "420b8999",
   "metadata": {},
   "outputs": [],
   "source": [
    "# load dataset \n",
    "allData = load_data(cfg['dataset']) #RT: added frac to speed-up trials and debugging"
   ]
  },
  {
   "cell_type": "code",
   "execution_count": 4,
   "id": "85fee77a",
   "metadata": {},
   "outputs": [],
   "source": [
    "# process dataset (separate features & classes, split in train and test, reduce train size if needed)\n",
    "X_cv, X_test, y_cv, y_test = data_prep(allData, cfg['features'], cfg['target'],\n",
    "                                       randomState=cfg['dprep_seed'], \n",
    "                                       testSize=cfg['frac_tst'], \n",
    "                                       trainSize=cfg['train_size'])"
   ]
  },
  {
   "cell_type": "code",
   "execution_count": 5,
   "id": "b44293f9",
   "metadata": {},
   "outputs": [],
   "source": [
    "# create folds using smoter (created beforehand to speed-up computation)\n",
    "smoter = SMOTE(random_state=cfg['smote_seed'], sampling_strategy='auto', \n",
    "               k_neighbors = cfg['smote_kneighbors'], n_jobs = -1)\n",
    "folds = create_folds_with_SMOTE(X_cv, y_cv, n_splits=cfg['n-folds'], smoter=None)"
   ]
  },
  {
   "cell_type": "markdown",
   "id": "711286ab",
   "metadata": {},
   "source": [
    "# Model training and testing"
   ]
  },
  {
   "cell_type": "code",
   "execution_count": 6,
   "id": "2b1c81d6",
   "metadata": {
    "collapsed": true
   },
   "outputs": [
    {
     "name": "stdout",
     "output_type": "stream",
     "text": [
      "Start cross-validation for RandomForestClassifier\n",
      "Parameter combination 1/2\n"
     ]
    },
    {
     "data": {
      "application/vnd.jupyter.widget-view+json": {
       "model_id": "3807e3d700ee45dca60eca5033ad27bc",
       "version_major": 2,
       "version_minor": 0
      },
      "text/plain": [
       "  0%|          | 0/5 [00:00<?, ?it/s]"
      ]
     },
     "metadata": {},
     "output_type": "display_data"
    },
    {
     "name": "stdout",
     "output_type": "stream",
     "text": [
      "Parameter combination 2/2\n"
     ]
    },
    {
     "data": {
      "application/vnd.jupyter.widget-view+json": {
       "model_id": "a09386f5a8634459836993af55831602",
       "version_major": 2,
       "version_minor": 0
      },
      "text/plain": [
       "  0%|          | 0/5 [00:00<?, ?it/s]"
      ]
     },
     "metadata": {},
     "output_type": "display_data"
    },
    {
     "name": "stdout",
     "output_type": "stream",
     "text": [
      "Start cross-validation for LGBMClassifier\n",
      "Parameter combination 1/4\n"
     ]
    },
    {
     "data": {
      "application/vnd.jupyter.widget-view+json": {
       "model_id": "505a64b225924d72bfd1bac20707fa0f",
       "version_major": 2,
       "version_minor": 0
      },
      "text/plain": [
       "  0%|          | 0/5 [00:00<?, ?it/s]"
      ]
     },
     "metadata": {},
     "output_type": "display_data"
    },
    {
     "name": "stdout",
     "output_type": "stream",
     "text": [
      "Parameter combination 2/4\n"
     ]
    },
    {
     "data": {
      "application/vnd.jupyter.widget-view+json": {
       "model_id": "89e2657e6c074717b1161bf9c3d41ad6",
       "version_major": 2,
       "version_minor": 0
      },
      "text/plain": [
       "  0%|          | 0/5 [00:00<?, ?it/s]"
      ]
     },
     "metadata": {},
     "output_type": "display_data"
    },
    {
     "name": "stdout",
     "output_type": "stream",
     "text": [
      "Parameter combination 3/4\n"
     ]
    },
    {
     "data": {
      "application/vnd.jupyter.widget-view+json": {
       "model_id": "3c46436128ba42babe8cdb2796f72bd0",
       "version_major": 2,
       "version_minor": 0
      },
      "text/plain": [
       "  0%|          | 0/5 [00:00<?, ?it/s]"
      ]
     },
     "metadata": {},
     "output_type": "display_data"
    },
    {
     "name": "stdout",
     "output_type": "stream",
     "text": [
      "Parameter combination 4/4\n"
     ]
    },
    {
     "data": {
      "application/vnd.jupyter.widget-view+json": {
       "model_id": "6d54545508cf4fb4916817db14bc483e",
       "version_major": 2,
       "version_minor": 0
      },
      "text/plain": [
       "  0%|          | 0/5 [00:00<?, ?it/s]"
      ]
     },
     "metadata": {},
     "output_type": "display_data"
    },
    {
     "name": "stdout",
     "output_type": "stream",
     "text": [
      "Start cross-validation for LGBMClassifier\n",
      "Parameter combination 1/1\n"
     ]
    },
    {
     "data": {
      "application/vnd.jupyter.widget-view+json": {
       "model_id": "8e2f92772061451f99cfea000e9346c6",
       "version_major": 2,
       "version_minor": 0
      },
      "text/plain": [
       "  0%|          | 0/5 [00:00<?, ?it/s]"
      ]
     },
     "metadata": {},
     "output_type": "display_data"
    },
    {
     "name": "stdout",
     "output_type": "stream",
     "text": [
      "Start cross-validation for LogisticRegression\n",
      "Parameter combination 1/8\n"
     ]
    },
    {
     "data": {
      "application/vnd.jupyter.widget-view+json": {
       "model_id": "2b3d63e497c7421db486050942350a30",
       "version_major": 2,
       "version_minor": 0
      },
      "text/plain": [
       "  0%|          | 0/5 [00:00<?, ?it/s]"
      ]
     },
     "metadata": {},
     "output_type": "display_data"
    },
    {
     "name": "stdout",
     "output_type": "stream",
     "text": [
      "Parameter combination 2/8\n"
     ]
    },
    {
     "data": {
      "application/vnd.jupyter.widget-view+json": {
       "model_id": "1b0afa46f0634daa80007ac746d77532",
       "version_major": 2,
       "version_minor": 0
      },
      "text/plain": [
       "  0%|          | 0/5 [00:00<?, ?it/s]"
      ]
     },
     "metadata": {},
     "output_type": "display_data"
    },
    {
     "name": "stdout",
     "output_type": "stream",
     "text": [
      "Parameter combination 3/8\n"
     ]
    },
    {
     "data": {
      "application/vnd.jupyter.widget-view+json": {
       "model_id": "8652bb2cefb84d699aa2441758f7d1ef",
       "version_major": 2,
       "version_minor": 0
      },
      "text/plain": [
       "  0%|          | 0/5 [00:00<?, ?it/s]"
      ]
     },
     "metadata": {},
     "output_type": "display_data"
    },
    {
     "name": "stdout",
     "output_type": "stream",
     "text": [
      "Parameter combination 4/8\n"
     ]
    },
    {
     "data": {
      "application/vnd.jupyter.widget-view+json": {
       "model_id": "41d08ba733c346598083f0c430ff466a",
       "version_major": 2,
       "version_minor": 0
      },
      "text/plain": [
       "  0%|          | 0/5 [00:00<?, ?it/s]"
      ]
     },
     "metadata": {},
     "output_type": "display_data"
    },
    {
     "name": "stdout",
     "output_type": "stream",
     "text": [
      "Parameter combination 5/8\n"
     ]
    },
    {
     "data": {
      "application/vnd.jupyter.widget-view+json": {
       "model_id": "945257ee02d64d739e84612642670e4d",
       "version_major": 2,
       "version_minor": 0
      },
      "text/plain": [
       "  0%|          | 0/5 [00:00<?, ?it/s]"
      ]
     },
     "metadata": {},
     "output_type": "display_data"
    },
    {
     "name": "stdout",
     "output_type": "stream",
     "text": [
      "Parameter combination 6/8\n"
     ]
    },
    {
     "data": {
      "application/vnd.jupyter.widget-view+json": {
       "model_id": "dba513bffe544b53b0dd6a66f2fe132c",
       "version_major": 2,
       "version_minor": 0
      },
      "text/plain": [
       "  0%|          | 0/5 [00:00<?, ?it/s]"
      ]
     },
     "metadata": {},
     "output_type": "display_data"
    },
    {
     "name": "stdout",
     "output_type": "stream",
     "text": [
      "Parameter combination 7/8\n"
     ]
    },
    {
     "data": {
      "application/vnd.jupyter.widget-view+json": {
       "model_id": "3de3e000f7ea4650a1145496df894837",
       "version_major": 2,
       "version_minor": 0
      },
      "text/plain": [
       "  0%|          | 0/5 [00:00<?, ?it/s]"
      ]
     },
     "metadata": {},
     "output_type": "display_data"
    },
    {
     "name": "stdout",
     "output_type": "stream",
     "text": [
      "Parameter combination 8/8\n"
     ]
    },
    {
     "data": {
      "application/vnd.jupyter.widget-view+json": {
       "model_id": "cff6e445505d42d4ab803bda69a33c7b",
       "version_major": 2,
       "version_minor": 0
      },
      "text/plain": [
       "  0%|          | 0/5 [00:00<?, ?it/s]"
      ]
     },
     "metadata": {},
     "output_type": "display_data"
    },
    {
     "name": "stdout",
     "output_type": "stream",
     "text": [
      "Start cross-validation for LogisticRegression\n",
      "Parameter combination 1/8\n"
     ]
    },
    {
     "data": {
      "application/vnd.jupyter.widget-view+json": {
       "model_id": "9e54e31c14734800bac6dd0fd71e3fd1",
       "version_major": 2,
       "version_minor": 0
      },
      "text/plain": [
       "  0%|          | 0/5 [00:00<?, ?it/s]"
      ]
     },
     "metadata": {},
     "output_type": "display_data"
    },
    {
     "name": "stdout",
     "output_type": "stream",
     "text": [
      "Parameter combination 2/8\n"
     ]
    },
    {
     "data": {
      "application/vnd.jupyter.widget-view+json": {
       "model_id": "fade8148a8a3452fa9085ab0c0b5ce7d",
       "version_major": 2,
       "version_minor": 0
      },
      "text/plain": [
       "  0%|          | 0/5 [00:00<?, ?it/s]"
      ]
     },
     "metadata": {},
     "output_type": "display_data"
    },
    {
     "name": "stdout",
     "output_type": "stream",
     "text": [
      "Parameter combination 3/8\n"
     ]
    },
    {
     "data": {
      "application/vnd.jupyter.widget-view+json": {
       "model_id": "851de42b68b540fead055d3e475f6b09",
       "version_major": 2,
       "version_minor": 0
      },
      "text/plain": [
       "  0%|          | 0/5 [00:00<?, ?it/s]"
      ]
     },
     "metadata": {},
     "output_type": "display_data"
    },
    {
     "name": "stdout",
     "output_type": "stream",
     "text": [
      "Parameter combination 4/8\n"
     ]
    },
    {
     "data": {
      "application/vnd.jupyter.widget-view+json": {
       "model_id": "f7fe187daa8a498d99d5b237dd6711ec",
       "version_major": 2,
       "version_minor": 0
      },
      "text/plain": [
       "  0%|          | 0/5 [00:00<?, ?it/s]"
      ]
     },
     "metadata": {},
     "output_type": "display_data"
    },
    {
     "name": "stdout",
     "output_type": "stream",
     "text": [
      "Parameter combination 5/8\n"
     ]
    },
    {
     "data": {
      "application/vnd.jupyter.widget-view+json": {
       "model_id": "f0b1d43e215446a5a6942352ba9c642b",
       "version_major": 2,
       "version_minor": 0
      },
      "text/plain": [
       "  0%|          | 0/5 [00:00<?, ?it/s]"
      ]
     },
     "metadata": {},
     "output_type": "display_data"
    },
    {
     "name": "stdout",
     "output_type": "stream",
     "text": [
      "Parameter combination 6/8\n"
     ]
    },
    {
     "data": {
      "application/vnd.jupyter.widget-view+json": {
       "model_id": "71168f314e8b41d9927a7fe2ce8b580d",
       "version_major": 2,
       "version_minor": 0
      },
      "text/plain": [
       "  0%|          | 0/5 [00:00<?, ?it/s]"
      ]
     },
     "metadata": {},
     "output_type": "display_data"
    },
    {
     "name": "stdout",
     "output_type": "stream",
     "text": [
      "Parameter combination 7/8\n"
     ]
    },
    {
     "data": {
      "application/vnd.jupyter.widget-view+json": {
       "model_id": "14f8fe2aa53c4b16a0582e287927771a",
       "version_major": 2,
       "version_minor": 0
      },
      "text/plain": [
       "  0%|          | 0/5 [00:00<?, ?it/s]"
      ]
     },
     "metadata": {},
     "output_type": "display_data"
    },
    {
     "name": "stdout",
     "output_type": "stream",
     "text": [
      "Parameter combination 8/8\n"
     ]
    },
    {
     "data": {
      "application/vnd.jupyter.widget-view+json": {
       "model_id": "22207ebd9bb0493fb6775dfbff8dbd4f",
       "version_major": 2,
       "version_minor": 0
      },
      "text/plain": [
       "  0%|          | 0/5 [00:00<?, ?it/s]"
      ]
     },
     "metadata": {},
     "output_type": "display_data"
    },
    {
     "name": "stdout",
     "output_type": "stream",
     "text": [
      "Start cross-validation for LogisticRegression\n",
      "Parameter combination 1/8\n"
     ]
    },
    {
     "data": {
      "application/vnd.jupyter.widget-view+json": {
       "model_id": "6fefd2a0e62947e7a19e09ae41e27742",
       "version_major": 2,
       "version_minor": 0
      },
      "text/plain": [
       "  0%|          | 0/5 [00:00<?, ?it/s]"
      ]
     },
     "metadata": {},
     "output_type": "display_data"
    },
    {
     "name": "stdout",
     "output_type": "stream",
     "text": [
      "Parameter combination 2/8\n"
     ]
    },
    {
     "data": {
      "application/vnd.jupyter.widget-view+json": {
       "model_id": "ec4f2fcf60534dc1b2b3801c3cf8a250",
       "version_major": 2,
       "version_minor": 0
      },
      "text/plain": [
       "  0%|          | 0/5 [00:00<?, ?it/s]"
      ]
     },
     "metadata": {},
     "output_type": "display_data"
    },
    {
     "name": "stdout",
     "output_type": "stream",
     "text": [
      "Parameter combination 3/8\n"
     ]
    },
    {
     "data": {
      "application/vnd.jupyter.widget-view+json": {
       "model_id": "2ea1e9cae1164f3ea832f8e29059d1e0",
       "version_major": 2,
       "version_minor": 0
      },
      "text/plain": [
       "  0%|          | 0/5 [00:00<?, ?it/s]"
      ]
     },
     "metadata": {},
     "output_type": "display_data"
    },
    {
     "name": "stdout",
     "output_type": "stream",
     "text": [
      "Parameter combination 4/8\n"
     ]
    },
    {
     "data": {
      "application/vnd.jupyter.widget-view+json": {
       "model_id": "ed3dbdf731434c48937801cad6fc18fd",
       "version_major": 2,
       "version_minor": 0
      },
      "text/plain": [
       "  0%|          | 0/5 [00:00<?, ?it/s]"
      ]
     },
     "metadata": {},
     "output_type": "display_data"
    },
    {
     "name": "stdout",
     "output_type": "stream",
     "text": [
      "Parameter combination 5/8\n"
     ]
    },
    {
     "data": {
      "application/vnd.jupyter.widget-view+json": {
       "model_id": "ed5b448650cd466ea2cd62ec9cb27a6f",
       "version_major": 2,
       "version_minor": 0
      },
      "text/plain": [
       "  0%|          | 0/5 [00:00<?, ?it/s]"
      ]
     },
     "metadata": {},
     "output_type": "display_data"
    },
    {
     "name": "stdout",
     "output_type": "stream",
     "text": [
      "Parameter combination 6/8\n"
     ]
    },
    {
     "data": {
      "application/vnd.jupyter.widget-view+json": {
       "model_id": "a2b7a433d54647798e2feb789451e72d",
       "version_major": 2,
       "version_minor": 0
      },
      "text/plain": [
       "  0%|          | 0/5 [00:00<?, ?it/s]"
      ]
     },
     "metadata": {},
     "output_type": "display_data"
    },
    {
     "name": "stdout",
     "output_type": "stream",
     "text": [
      "Parameter combination 7/8\n"
     ]
    },
    {
     "data": {
      "application/vnd.jupyter.widget-view+json": {
       "model_id": "d054baf3668a464e8f617e981805775e",
       "version_major": 2,
       "version_minor": 0
      },
      "text/plain": [
       "  0%|          | 0/5 [00:00<?, ?it/s]"
      ]
     },
     "metadata": {},
     "output_type": "display_data"
    },
    {
     "name": "stdout",
     "output_type": "stream",
     "text": [
      "Parameter combination 8/8\n"
     ]
    },
    {
     "data": {
      "application/vnd.jupyter.widget-view+json": {
       "model_id": "36af91b5ea3e4f7f98db4df9e5d849d3",
       "version_major": 2,
       "version_minor": 0
      },
      "text/plain": [
       "  0%|          | 0/5 [00:00<?, ?it/s]"
      ]
     },
     "metadata": {},
     "output_type": "display_data"
    },
    {
     "name": "stdout",
     "output_type": "stream",
     "text": [
      "Start cross-validation for LogisticRegression\n",
      "Parameter combination 1/8\n"
     ]
    },
    {
     "data": {
      "application/vnd.jupyter.widget-view+json": {
       "model_id": "5a72ca23f87b41d3ac084946e852032c",
       "version_major": 2,
       "version_minor": 0
      },
      "text/plain": [
       "  0%|          | 0/5 [00:00<?, ?it/s]"
      ]
     },
     "metadata": {},
     "output_type": "display_data"
    },
    {
     "name": "stdout",
     "output_type": "stream",
     "text": [
      "Parameter combination 2/8\n"
     ]
    },
    {
     "data": {
      "application/vnd.jupyter.widget-view+json": {
       "model_id": "c8e0adf38f5d429984771b1ba2ae83f4",
       "version_major": 2,
       "version_minor": 0
      },
      "text/plain": [
       "  0%|          | 0/5 [00:00<?, ?it/s]"
      ]
     },
     "metadata": {},
     "output_type": "display_data"
    },
    {
     "name": "stdout",
     "output_type": "stream",
     "text": [
      "Parameter combination 3/8\n"
     ]
    },
    {
     "data": {
      "application/vnd.jupyter.widget-view+json": {
       "model_id": "6c5be10441f544e8a14f6a85e7c165dc",
       "version_major": 2,
       "version_minor": 0
      },
      "text/plain": [
       "  0%|          | 0/5 [00:00<?, ?it/s]"
      ]
     },
     "metadata": {},
     "output_type": "display_data"
    },
    {
     "name": "stdout",
     "output_type": "stream",
     "text": [
      "Parameter combination 4/8\n"
     ]
    },
    {
     "data": {
      "application/vnd.jupyter.widget-view+json": {
       "model_id": "c7fe8bf7eca64cd6826ae6c0e254b028",
       "version_major": 2,
       "version_minor": 0
      },
      "text/plain": [
       "  0%|          | 0/5 [00:00<?, ?it/s]"
      ]
     },
     "metadata": {},
     "output_type": "display_data"
    },
    {
     "name": "stdout",
     "output_type": "stream",
     "text": [
      "Parameter combination 5/8\n"
     ]
    },
    {
     "data": {
      "application/vnd.jupyter.widget-view+json": {
       "model_id": "599716dcff8e4c88af3221bdcfc3f3b0",
       "version_major": 2,
       "version_minor": 0
      },
      "text/plain": [
       "  0%|          | 0/5 [00:00<?, ?it/s]"
      ]
     },
     "metadata": {},
     "output_type": "display_data"
    },
    {
     "name": "stdout",
     "output_type": "stream",
     "text": [
      "Parameter combination 6/8\n"
     ]
    },
    {
     "data": {
      "application/vnd.jupyter.widget-view+json": {
       "model_id": "4cedcb4318f14b57984af1db3e50e447",
       "version_major": 2,
       "version_minor": 0
      },
      "text/plain": [
       "  0%|          | 0/5 [00:00<?, ?it/s]"
      ]
     },
     "metadata": {},
     "output_type": "display_data"
    },
    {
     "name": "stdout",
     "output_type": "stream",
     "text": [
      "Parameter combination 7/8\n"
     ]
    },
    {
     "data": {
      "application/vnd.jupyter.widget-view+json": {
       "model_id": "60cc910203244cdea1349c2d91d4c61f",
       "version_major": 2,
       "version_minor": 0
      },
      "text/plain": [
       "  0%|          | 0/5 [00:00<?, ?it/s]"
      ]
     },
     "metadata": {},
     "output_type": "display_data"
    },
    {
     "name": "stdout",
     "output_type": "stream",
     "text": [
      "Parameter combination 8/8\n"
     ]
    },
    {
     "data": {
      "application/vnd.jupyter.widget-view+json": {
       "model_id": "74f559a7b48044529815e7b88721e0ab",
       "version_major": 2,
       "version_minor": 0
      },
      "text/plain": [
       "  0%|          | 0/5 [00:00<?, ?it/s]"
      ]
     },
     "metadata": {},
     "output_type": "display_data"
    },
    {
     "name": "stdout",
     "output_type": "stream",
     "text": [
      "Start cross-validation for LogisticRegression\n",
      "Parameter combination 1/8\n"
     ]
    },
    {
     "data": {
      "application/vnd.jupyter.widget-view+json": {
       "model_id": "7fff56ff313341d9a719383f8aad574b",
       "version_major": 2,
       "version_minor": 0
      },
      "text/plain": [
       "  0%|          | 0/5 [00:00<?, ?it/s]"
      ]
     },
     "metadata": {},
     "output_type": "display_data"
    },
    {
     "name": "stdout",
     "output_type": "stream",
     "text": [
      "Parameter combination 2/8\n"
     ]
    },
    {
     "data": {
      "application/vnd.jupyter.widget-view+json": {
       "model_id": "670bdeb184514a899237389cf01965f9",
       "version_major": 2,
       "version_minor": 0
      },
      "text/plain": [
       "  0%|          | 0/5 [00:00<?, ?it/s]"
      ]
     },
     "metadata": {},
     "output_type": "display_data"
    },
    {
     "name": "stdout",
     "output_type": "stream",
     "text": [
      "Parameter combination 3/8\n"
     ]
    },
    {
     "data": {
      "application/vnd.jupyter.widget-view+json": {
       "model_id": "5c5a5f9da3a943dea56bd3574a0bab2f",
       "version_major": 2,
       "version_minor": 0
      },
      "text/plain": [
       "  0%|          | 0/5 [00:00<?, ?it/s]"
      ]
     },
     "metadata": {},
     "output_type": "display_data"
    },
    {
     "name": "stdout",
     "output_type": "stream",
     "text": [
      "Parameter combination 4/8\n"
     ]
    },
    {
     "data": {
      "application/vnd.jupyter.widget-view+json": {
       "model_id": "33a4c99b124f4bbfbf754adae7e00f21",
       "version_major": 2,
       "version_minor": 0
      },
      "text/plain": [
       "  0%|          | 0/5 [00:00<?, ?it/s]"
      ]
     },
     "metadata": {},
     "output_type": "display_data"
    },
    {
     "name": "stdout",
     "output_type": "stream",
     "text": [
      "Parameter combination 5/8\n"
     ]
    },
    {
     "data": {
      "application/vnd.jupyter.widget-view+json": {
       "model_id": "7089563bb97b4ce59c7fb8906ff36786",
       "version_major": 2,
       "version_minor": 0
      },
      "text/plain": [
       "  0%|          | 0/5 [00:00<?, ?it/s]"
      ]
     },
     "metadata": {},
     "output_type": "display_data"
    },
    {
     "name": "stdout",
     "output_type": "stream",
     "text": [
      "Parameter combination 6/8\n"
     ]
    },
    {
     "data": {
      "application/vnd.jupyter.widget-view+json": {
       "model_id": "4812e647c9c845a0929d2af1ebdf1893",
       "version_major": 2,
       "version_minor": 0
      },
      "text/plain": [
       "  0%|          | 0/5 [00:00<?, ?it/s]"
      ]
     },
     "metadata": {},
     "output_type": "display_data"
    },
    {
     "name": "stdout",
     "output_type": "stream",
     "text": [
      "Parameter combination 7/8\n"
     ]
    },
    {
     "data": {
      "application/vnd.jupyter.widget-view+json": {
       "model_id": "ad40f8e942214a0d9bdd600705985b54",
       "version_major": 2,
       "version_minor": 0
      },
      "text/plain": [
       "  0%|          | 0/5 [00:00<?, ?it/s]"
      ]
     },
     "metadata": {},
     "output_type": "display_data"
    },
    {
     "name": "stdout",
     "output_type": "stream",
     "text": [
      "Parameter combination 8/8\n"
     ]
    },
    {
     "data": {
      "application/vnd.jupyter.widget-view+json": {
       "model_id": "a503b420ebfb44fcae7e56f53d976f92",
       "version_major": 2,
       "version_minor": 0
      },
      "text/plain": [
       "  0%|          | 0/5 [00:00<?, ?it/s]"
      ]
     },
     "metadata": {},
     "output_type": "display_data"
    },
    {
     "name": "stdout",
     "output_type": "stream",
     "text": [
      "Start cross-validation for LogisticRegression\n",
      "Parameter combination 1/8\n"
     ]
    },
    {
     "data": {
      "application/vnd.jupyter.widget-view+json": {
       "model_id": "28bd63dbb0c749aabe6fb4802a7250a5",
       "version_major": 2,
       "version_minor": 0
      },
      "text/plain": [
       "  0%|          | 0/5 [00:00<?, ?it/s]"
      ]
     },
     "metadata": {},
     "output_type": "display_data"
    },
    {
     "name": "stdout",
     "output_type": "stream",
     "text": [
      "Parameter combination 2/8\n"
     ]
    },
    {
     "data": {
      "application/vnd.jupyter.widget-view+json": {
       "model_id": "28bec5cd428847f1aec95289e4e6e77f",
       "version_major": 2,
       "version_minor": 0
      },
      "text/plain": [
       "  0%|          | 0/5 [00:00<?, ?it/s]"
      ]
     },
     "metadata": {},
     "output_type": "display_data"
    },
    {
     "name": "stdout",
     "output_type": "stream",
     "text": [
      "Parameter combination 3/8\n"
     ]
    },
    {
     "data": {
      "application/vnd.jupyter.widget-view+json": {
       "model_id": "7eb08b24a6a744f0aa40803301fa0a0d",
       "version_major": 2,
       "version_minor": 0
      },
      "text/plain": [
       "  0%|          | 0/5 [00:00<?, ?it/s]"
      ]
     },
     "metadata": {},
     "output_type": "display_data"
    },
    {
     "name": "stdout",
     "output_type": "stream",
     "text": [
      "Parameter combination 4/8\n"
     ]
    },
    {
     "data": {
      "application/vnd.jupyter.widget-view+json": {
       "model_id": "35dd49f1fa2a4b3684c78bbd6ff71249",
       "version_major": 2,
       "version_minor": 0
      },
      "text/plain": [
       "  0%|          | 0/5 [00:00<?, ?it/s]"
      ]
     },
     "metadata": {},
     "output_type": "display_data"
    },
    {
     "name": "stdout",
     "output_type": "stream",
     "text": [
      "Parameter combination 5/8\n"
     ]
    },
    {
     "data": {
      "application/vnd.jupyter.widget-view+json": {
       "model_id": "b8ebebc6d5eb48b38df21169d932db9c",
       "version_major": 2,
       "version_minor": 0
      },
      "text/plain": [
       "  0%|          | 0/5 [00:00<?, ?it/s]"
      ]
     },
     "metadata": {},
     "output_type": "display_data"
    },
    {
     "name": "stdout",
     "output_type": "stream",
     "text": [
      "Parameter combination 6/8\n"
     ]
    },
    {
     "data": {
      "application/vnd.jupyter.widget-view+json": {
       "model_id": "f205e0ddf8bf47baabe2c4ac7e4830ef",
       "version_major": 2,
       "version_minor": 0
      },
      "text/plain": [
       "  0%|          | 0/5 [00:00<?, ?it/s]"
      ]
     },
     "metadata": {},
     "output_type": "display_data"
    },
    {
     "name": "stdout",
     "output_type": "stream",
     "text": [
      "Parameter combination 7/8\n"
     ]
    },
    {
     "data": {
      "application/vnd.jupyter.widget-view+json": {
       "model_id": "727bdd16342841ae869f6b329709c0c2",
       "version_major": 2,
       "version_minor": 0
      },
      "text/plain": [
       "  0%|          | 0/5 [00:00<?, ?it/s]"
      ]
     },
     "metadata": {},
     "output_type": "display_data"
    },
    {
     "name": "stdout",
     "output_type": "stream",
     "text": [
      "Parameter combination 8/8\n"
     ]
    },
    {
     "data": {
      "application/vnd.jupyter.widget-view+json": {
       "model_id": "53f3c5270aa04cd4ada0332a71ea51e6",
       "version_major": 2,
       "version_minor": 0
      },
      "text/plain": [
       "  0%|          | 0/5 [00:00<?, ?it/s]"
      ]
     },
     "metadata": {},
     "output_type": "display_data"
    },
    {
     "name": "stdout",
     "output_type": "stream",
     "text": [
      "Start cross-validation for LogisticRegression\n",
      "Parameter combination 1/8\n"
     ]
    },
    {
     "data": {
      "application/vnd.jupyter.widget-view+json": {
       "model_id": "e0f2f67ae438411297edfe6ff3028962",
       "version_major": 2,
       "version_minor": 0
      },
      "text/plain": [
       "  0%|          | 0/5 [00:00<?, ?it/s]"
      ]
     },
     "metadata": {},
     "output_type": "display_data"
    },
    {
     "name": "stdout",
     "output_type": "stream",
     "text": [
      "Parameter combination 2/8\n"
     ]
    },
    {
     "data": {
      "application/vnd.jupyter.widget-view+json": {
       "model_id": "7596f9f922cb4b3a99eb71608b6b05e9",
       "version_major": 2,
       "version_minor": 0
      },
      "text/plain": [
       "  0%|          | 0/5 [00:00<?, ?it/s]"
      ]
     },
     "metadata": {},
     "output_type": "display_data"
    },
    {
     "name": "stdout",
     "output_type": "stream",
     "text": [
      "Parameter combination 3/8\n"
     ]
    },
    {
     "data": {
      "application/vnd.jupyter.widget-view+json": {
       "model_id": "fec3bd54a7ca49bcb8f158cf4fea3543",
       "version_major": 2,
       "version_minor": 0
      },
      "text/plain": [
       "  0%|          | 0/5 [00:00<?, ?it/s]"
      ]
     },
     "metadata": {},
     "output_type": "display_data"
    },
    {
     "name": "stdout",
     "output_type": "stream",
     "text": [
      "Parameter combination 4/8\n"
     ]
    },
    {
     "data": {
      "application/vnd.jupyter.widget-view+json": {
       "model_id": "377198adece64c79a091a79f95adfa10",
       "version_major": 2,
       "version_minor": 0
      },
      "text/plain": [
       "  0%|          | 0/5 [00:00<?, ?it/s]"
      ]
     },
     "metadata": {},
     "output_type": "display_data"
    },
    {
     "name": "stdout",
     "output_type": "stream",
     "text": [
      "Parameter combination 5/8\n"
     ]
    },
    {
     "data": {
      "application/vnd.jupyter.widget-view+json": {
       "model_id": "212b25f511dd4c9b9b4208e14313ec39",
       "version_major": 2,
       "version_minor": 0
      },
      "text/plain": [
       "  0%|          | 0/5 [00:00<?, ?it/s]"
      ]
     },
     "metadata": {},
     "output_type": "display_data"
    },
    {
     "name": "stdout",
     "output_type": "stream",
     "text": [
      "Parameter combination 6/8\n"
     ]
    },
    {
     "data": {
      "application/vnd.jupyter.widget-view+json": {
       "model_id": "9effdbd346a149da9db383fc692912ca",
       "version_major": 2,
       "version_minor": 0
      },
      "text/plain": [
       "  0%|          | 0/5 [00:00<?, ?it/s]"
      ]
     },
     "metadata": {},
     "output_type": "display_data"
    },
    {
     "name": "stdout",
     "output_type": "stream",
     "text": [
      "Parameter combination 7/8\n"
     ]
    },
    {
     "data": {
      "application/vnd.jupyter.widget-view+json": {
       "model_id": "e4d2f050ecad49a0bce90b4820e4d73d",
       "version_major": 2,
       "version_minor": 0
      },
      "text/plain": [
       "  0%|          | 0/5 [00:00<?, ?it/s]"
      ]
     },
     "metadata": {},
     "output_type": "display_data"
    },
    {
     "name": "stdout",
     "output_type": "stream",
     "text": [
      "Parameter combination 8/8\n"
     ]
    },
    {
     "data": {
      "application/vnd.jupyter.widget-view+json": {
       "model_id": "81f1d364d0a34da4ac54502656eab42f",
       "version_major": 2,
       "version_minor": 0
      },
      "text/plain": [
       "  0%|          | 0/5 [00:00<?, ?it/s]"
      ]
     },
     "metadata": {},
     "output_type": "display_data"
    },
    {
     "name": "stdout",
     "output_type": "stream",
     "text": [
      "Start cross-validation for LogisticRegression\n",
      "Parameter combination 1/8\n"
     ]
    },
    {
     "data": {
      "application/vnd.jupyter.widget-view+json": {
       "model_id": "e6f325a2a9054371a81c199547890fdb",
       "version_major": 2,
       "version_minor": 0
      },
      "text/plain": [
       "  0%|          | 0/5 [00:00<?, ?it/s]"
      ]
     },
     "metadata": {},
     "output_type": "display_data"
    },
    {
     "name": "stdout",
     "output_type": "stream",
     "text": [
      "Parameter combination 2/8\n"
     ]
    },
    {
     "data": {
      "application/vnd.jupyter.widget-view+json": {
       "model_id": "ddb378eb25ca443e9147342b1e2985b0",
       "version_major": 2,
       "version_minor": 0
      },
      "text/plain": [
       "  0%|          | 0/5 [00:00<?, ?it/s]"
      ]
     },
     "metadata": {},
     "output_type": "display_data"
    },
    {
     "name": "stdout",
     "output_type": "stream",
     "text": [
      "Parameter combination 3/8\n"
     ]
    },
    {
     "data": {
      "application/vnd.jupyter.widget-view+json": {
       "model_id": "d9ba19c966cc45828f2b767985e25cc9",
       "version_major": 2,
       "version_minor": 0
      },
      "text/plain": [
       "  0%|          | 0/5 [00:00<?, ?it/s]"
      ]
     },
     "metadata": {},
     "output_type": "display_data"
    },
    {
     "name": "stdout",
     "output_type": "stream",
     "text": [
      "Parameter combination 4/8\n"
     ]
    },
    {
     "data": {
      "application/vnd.jupyter.widget-view+json": {
       "model_id": "c110a0c53b4240a68acd23d858f64702",
       "version_major": 2,
       "version_minor": 0
      },
      "text/plain": [
       "  0%|          | 0/5 [00:00<?, ?it/s]"
      ]
     },
     "metadata": {},
     "output_type": "display_data"
    },
    {
     "name": "stdout",
     "output_type": "stream",
     "text": [
      "Parameter combination 5/8\n"
     ]
    },
    {
     "data": {
      "application/vnd.jupyter.widget-view+json": {
       "model_id": "3b7f8cefead04f68b2f7f59a06472815",
       "version_major": 2,
       "version_minor": 0
      },
      "text/plain": [
       "  0%|          | 0/5 [00:00<?, ?it/s]"
      ]
     },
     "metadata": {},
     "output_type": "display_data"
    },
    {
     "name": "stdout",
     "output_type": "stream",
     "text": [
      "Parameter combination 6/8\n"
     ]
    },
    {
     "data": {
      "application/vnd.jupyter.widget-view+json": {
       "model_id": "ae629210f8fa46ca82e570458f144229",
       "version_major": 2,
       "version_minor": 0
      },
      "text/plain": [
       "  0%|          | 0/5 [00:00<?, ?it/s]"
      ]
     },
     "metadata": {},
     "output_type": "display_data"
    },
    {
     "name": "stdout",
     "output_type": "stream",
     "text": [
      "Parameter combination 7/8\n"
     ]
    },
    {
     "data": {
      "application/vnd.jupyter.widget-view+json": {
       "model_id": "87b3e29d3537409bbfeaa5caaec64588",
       "version_major": 2,
       "version_minor": 0
      },
      "text/plain": [
       "  0%|          | 0/5 [00:00<?, ?it/s]"
      ]
     },
     "metadata": {},
     "output_type": "display_data"
    },
    {
     "name": "stdout",
     "output_type": "stream",
     "text": [
      "Parameter combination 8/8\n"
     ]
    },
    {
     "data": {
      "application/vnd.jupyter.widget-view+json": {
       "model_id": "dce1425d4c4442f9b0a931b2c9736cd2",
       "version_major": 2,
       "version_minor": 0
      },
      "text/plain": [
       "  0%|          | 0/5 [00:00<?, ?it/s]"
      ]
     },
     "metadata": {},
     "output_type": "display_data"
    }
   ],
   "source": [
    "# find best parameters for each algorithm via cross-validation\n",
    "# run for 10 different starting seeds\n",
    "for i in range(10):\n",
    "    i += 1\n",
    "    cfg = read_config('configfiles/config_seed{}.yaml'.format(i))\n",
    "    initalize_random_generators(cfg)\n",
    "    # find best parameters for each algorithm via cross-validation\n",
    "    results = cv_model_selection(folds, cfg, i)\n",
    "    # save results\n",
    "    results.to_pickle('cv_results/cv_results_seed{}'.format(i))\n"
   ]
  },
  {
   "cell_type": "code",
   "execution_count": 8,
   "id": "6f3aba82",
   "metadata": {},
   "outputs": [],
   "source": [
    "# select best params combination for each algorithm\n",
    "best_models, performance_distr = best_model_selection(cfg, 10)"
   ]
  },
  {
   "cell_type": "code",
   "execution_count": 42,
   "id": "03816ede",
   "metadata": {},
   "outputs": [],
   "source": [
    "algo = all_results.groupby('algorithm')"
   ]
  },
  {
   "cell_type": "code",
   "execution_count": 43,
   "id": "27ff9cc3",
   "metadata": {},
   "outputs": [],
   "source": [
    "algo_test = algo.get_group('LogisticRegression')"
   ]
  },
  {
   "cell_type": "code",
   "execution_count": 49,
   "id": "437dac4e",
   "metadata": {},
   "outputs": [],
   "source": [
    "num = algo_test.index.max()"
   ]
  },
  {
   "cell_type": "code",
   "execution_count": 65,
   "id": "020de155",
   "metadata": {},
   "outputs": [],
   "source": [
    "f1_matrix = np.array(algo_test.avg_f1score).reshape((num+1, num+1))"
   ]
  },
  {
   "cell_type": "code",
   "execution_count": 80,
   "id": "4c795f0a",
   "metadata": {},
   "outputs": [],
   "source": [
    "a = np.median(f1_matrix, axis=0).max()"
   ]
  },
  {
   "cell_type": "code",
   "execution_count": 82,
   "id": "b3c17074",
   "metadata": {},
   "outputs": [
    {
     "data": {
      "text/plain": [
       "0    {'C': 0.1, 'n_jobs': -1, 'penalty': 'none', 's...\n",
       "0    {'C': 0.1, 'n_jobs': -1, 'penalty': 'none', 's...\n",
       "0    {'C': 0.1, 'n_jobs': -1, 'penalty': 'none', 's...\n",
       "0    {'C': 0.1, 'n_jobs': -1, 'penalty': 'none', 's...\n",
       "0    {'C': 0.1, 'n_jobs': -1, 'penalty': 'none', 's...\n",
       "0    {'C': 0.1, 'n_jobs': -1, 'penalty': 'none', 's...\n",
       "0    {'C': 0.1, 'n_jobs': -1, 'penalty': 'none', 's...\n",
       "0    {'C': 0.1, 'n_jobs': -1, 'penalty': 'none', 's...\n",
       "Name: params, dtype: object"
      ]
     },
     "execution_count": 82,
     "metadata": {},
     "output_type": "execute_result"
    }
   ],
   "source": [
    "algo_test.params.loc[0]"
   ]
  },
  {
   "cell_type": "code",
   "execution_count": 81,
   "id": "56f02c52",
   "metadata": {},
   "outputs": [
    {
     "data": {
      "text/plain": [
       "0"
      ]
     },
     "execution_count": 81,
     "metadata": {},
     "output_type": "execute_result"
    }
   ],
   "source": [
    "a.argmax()"
   ]
  },
  {
   "cell_type": "code",
   "execution_count": 60,
   "id": "7b0142b4",
   "metadata": {},
   "outputs": [
    {
     "data": {
      "text/html": [
       "<div>\n",
       "<style scoped>\n",
       "    .dataframe tbody tr th:only-of-type {\n",
       "        vertical-align: middle;\n",
       "    }\n",
       "\n",
       "    .dataframe tbody tr th {\n",
       "        vertical-align: top;\n",
       "    }\n",
       "\n",
       "    .dataframe thead th {\n",
       "        text-align: right;\n",
       "    }\n",
       "</style>\n",
       "<table border=\"1\" class=\"dataframe\">\n",
       "  <thead>\n",
       "    <tr style=\"text-align: right;\">\n",
       "      <th></th>\n",
       "      <th>algorithm</th>\n",
       "      <th>seed</th>\n",
       "      <th>params</th>\n",
       "      <th>f1scores</th>\n",
       "      <th>avg_f1score</th>\n",
       "      <th>time</th>\n",
       "      <th>oof_preds</th>\n",
       "    </tr>\n",
       "  </thead>\n",
       "  <tbody>\n",
       "    <tr>\n",
       "      <th>0</th>\n",
       "      <td>LogisticRegression</td>\n",
       "      <td>3</td>\n",
       "      <td>{'C': 0.1, 'n_jobs': -1, 'penalty': 'none', 's...</td>\n",
       "      <td>[0.8336305384674454, 0.8306684186276685, 0.833...</td>\n",
       "      <td>0.832472</td>\n",
       "      <td>171.344651</td>\n",
       "      <td>[Faucet, Toilet, Other, Faucet, Faucet, Other,...</td>\n",
       "    </tr>\n",
       "    <tr>\n",
       "      <th>1</th>\n",
       "      <td>LogisticRegression</td>\n",
       "      <td>3</td>\n",
       "      <td>{'C': 0.1, 'n_jobs': -1, 'penalty': 'none', 's...</td>\n",
       "      <td>[0.8310964736397533, 0.8277077182983226, 0.829...</td>\n",
       "      <td>0.829343</td>\n",
       "      <td>182.964989</td>\n",
       "      <td>[Faucet, Toilet, Other, Faucet, Faucet, Other,...</td>\n",
       "    </tr>\n",
       "    <tr>\n",
       "      <th>2</th>\n",
       "      <td>LogisticRegression</td>\n",
       "      <td>3</td>\n",
       "      <td>{'C': 0.1, 'n_jobs': -1, 'penalty': 'l2', 'sol...</td>\n",
       "      <td>[0.7331638268645001, 0.7313868364021091, 0.732...</td>\n",
       "      <td>0.731991</td>\n",
       "      <td>27.517506</td>\n",
       "      <td>[Faucet, Toilet, Faucet, Faucet, Faucet, Other...</td>\n",
       "    </tr>\n",
       "    <tr>\n",
       "      <th>3</th>\n",
       "      <td>LogisticRegression</td>\n",
       "      <td>3</td>\n",
       "      <td>{'C': 0.1, 'n_jobs': -1, 'penalty': 'l2', 'sol...</td>\n",
       "      <td>[0.733155294659693, 0.731378304124503, 0.73238...</td>\n",
       "      <td>0.732043</td>\n",
       "      <td>29.085599</td>\n",
       "      <td>[Faucet, Toilet, Faucet, Faucet, Faucet, Other...</td>\n",
       "    </tr>\n",
       "    <tr>\n",
       "      <th>4</th>\n",
       "      <td>LogisticRegression</td>\n",
       "      <td>3</td>\n",
       "      <td>{'C': 0.5, 'n_jobs': -1, 'penalty': 'none', 's...</td>\n",
       "      <td>[0.8336134740578314, 0.8306172249620314, 0.833...</td>\n",
       "      <td>0.832370</td>\n",
       "      <td>172.880129</td>\n",
       "      <td>[Faucet, Toilet, Other, Faucet, Faucet, Other,...</td>\n",
       "    </tr>\n",
       "    <tr>\n",
       "      <th>...</th>\n",
       "      <td>...</td>\n",
       "      <td>...</td>\n",
       "      <td>...</td>\n",
       "      <td>...</td>\n",
       "      <td>...</td>\n",
       "      <td>...</td>\n",
       "      <td>...</td>\n",
       "    </tr>\n",
       "    <tr>\n",
       "      <th>3</th>\n",
       "      <td>LogisticRegression</td>\n",
       "      <td>10</td>\n",
       "      <td>{'C': 0.1, 'n_jobs': -1, 'penalty': 'l2', 'sol...</td>\n",
       "      <td>[0.7330785048164297, 0.7313953686797153, 0.732...</td>\n",
       "      <td>0.731979</td>\n",
       "      <td>27.691197</td>\n",
       "      <td>[Faucet, Toilet, Faucet, Faucet, Faucet, Other...</td>\n",
       "    </tr>\n",
       "    <tr>\n",
       "      <th>4</th>\n",
       "      <td>LogisticRegression</td>\n",
       "      <td>10</td>\n",
       "      <td>{'C': 0.5, 'n_jobs': -1, 'penalty': 'none', 's...</td>\n",
       "      <td>[0.8334342977568834, 0.8306172249620314, 0.833...</td>\n",
       "      <td>0.832351</td>\n",
       "      <td>167.378513</td>\n",
       "      <td>[Faucet, Toilet, Other, Faucet, Faucet, Other,...</td>\n",
       "    </tr>\n",
       "    <tr>\n",
       "      <th>5</th>\n",
       "      <td>LogisticRegression</td>\n",
       "      <td>10</td>\n",
       "      <td>{'C': 0.5, 'n_jobs': -1, 'penalty': 'none', 's...</td>\n",
       "      <td>[0.8309940871820687, 0.8277418474087473, 0.829...</td>\n",
       "      <td>0.829387</td>\n",
       "      <td>179.400257</td>\n",
       "      <td>[Faucet, Toilet, Other, Faucet, Faucet, Other,...</td>\n",
       "    </tr>\n",
       "    <tr>\n",
       "      <th>6</th>\n",
       "      <td>LogisticRegression</td>\n",
       "      <td>10</td>\n",
       "      <td>{'C': 0.5, 'n_jobs': -1, 'penalty': 'l2', 'sol...</td>\n",
       "      <td>[0.7676765953089938, 0.7609938396955683, 0.762...</td>\n",
       "      <td>0.762847</td>\n",
       "      <td>31.425743</td>\n",
       "      <td>[Faucet, Toilet, Faucet, Faucet, Faucet, Other...</td>\n",
       "    </tr>\n",
       "    <tr>\n",
       "      <th>7</th>\n",
       "      <td>LogisticRegression</td>\n",
       "      <td>10</td>\n",
       "      <td>{'C': 0.5, 'n_jobs': -1, 'penalty': 'l2', 'sol...</td>\n",
       "      <td>[0.7675742088513092, 0.7602856606542551, 0.762...</td>\n",
       "      <td>0.762767</td>\n",
       "      <td>30.107760</td>\n",
       "      <td>[Faucet, Toilet, Faucet, Faucet, Faucet, Other...</td>\n",
       "    </tr>\n",
       "  </tbody>\n",
       "</table>\n",
       "<p>64 rows × 7 columns</p>\n",
       "</div>"
      ],
      "text/plain": [
       "             algorithm seed  \\\n",
       "0   LogisticRegression    3   \n",
       "1   LogisticRegression    3   \n",
       "2   LogisticRegression    3   \n",
       "3   LogisticRegression    3   \n",
       "4   LogisticRegression    3   \n",
       "..                 ...  ...   \n",
       "3   LogisticRegression   10   \n",
       "4   LogisticRegression   10   \n",
       "5   LogisticRegression   10   \n",
       "6   LogisticRegression   10   \n",
       "7   LogisticRegression   10   \n",
       "\n",
       "                                               params  \\\n",
       "0   {'C': 0.1, 'n_jobs': -1, 'penalty': 'none', 's...   \n",
       "1   {'C': 0.1, 'n_jobs': -1, 'penalty': 'none', 's...   \n",
       "2   {'C': 0.1, 'n_jobs': -1, 'penalty': 'l2', 'sol...   \n",
       "3   {'C': 0.1, 'n_jobs': -1, 'penalty': 'l2', 'sol...   \n",
       "4   {'C': 0.5, 'n_jobs': -1, 'penalty': 'none', 's...   \n",
       "..                                                ...   \n",
       "3   {'C': 0.1, 'n_jobs': -1, 'penalty': 'l2', 'sol...   \n",
       "4   {'C': 0.5, 'n_jobs': -1, 'penalty': 'none', 's...   \n",
       "5   {'C': 0.5, 'n_jobs': -1, 'penalty': 'none', 's...   \n",
       "6   {'C': 0.5, 'n_jobs': -1, 'penalty': 'l2', 'sol...   \n",
       "7   {'C': 0.5, 'n_jobs': -1, 'penalty': 'l2', 'sol...   \n",
       "\n",
       "                                             f1scores  avg_f1score  \\\n",
       "0   [0.8336305384674454, 0.8306684186276685, 0.833...     0.832472   \n",
       "1   [0.8310964736397533, 0.8277077182983226, 0.829...     0.829343   \n",
       "2   [0.7331638268645001, 0.7313868364021091, 0.732...     0.731991   \n",
       "3   [0.733155294659693, 0.731378304124503, 0.73238...     0.732043   \n",
       "4   [0.8336134740578314, 0.8306172249620314, 0.833...     0.832370   \n",
       "..                                                ...          ...   \n",
       "3   [0.7330785048164297, 0.7313953686797153, 0.732...     0.731979   \n",
       "4   [0.8334342977568834, 0.8306172249620314, 0.833...     0.832351   \n",
       "5   [0.8309940871820687, 0.8277418474087473, 0.829...     0.829387   \n",
       "6   [0.7676765953089938, 0.7609938396955683, 0.762...     0.762847   \n",
       "7   [0.7675742088513092, 0.7602856606542551, 0.762...     0.762767   \n",
       "\n",
       "          time                                          oof_preds  \n",
       "0   171.344651  [Faucet, Toilet, Other, Faucet, Faucet, Other,...  \n",
       "1   182.964989  [Faucet, Toilet, Other, Faucet, Faucet, Other,...  \n",
       "2    27.517506  [Faucet, Toilet, Faucet, Faucet, Faucet, Other...  \n",
       "3    29.085599  [Faucet, Toilet, Faucet, Faucet, Faucet, Other...  \n",
       "4   172.880129  [Faucet, Toilet, Other, Faucet, Faucet, Other,...  \n",
       "..         ...                                                ...  \n",
       "3    27.691197  [Faucet, Toilet, Faucet, Faucet, Faucet, Other...  \n",
       "4   167.378513  [Faucet, Toilet, Other, Faucet, Faucet, Other,...  \n",
       "5   179.400257  [Faucet, Toilet, Other, Faucet, Faucet, Other,...  \n",
       "6    31.425743  [Faucet, Toilet, Faucet, Faucet, Faucet, Other...  \n",
       "7    30.107760  [Faucet, Toilet, Faucet, Faucet, Faucet, Other...  \n",
       "\n",
       "[64 rows x 7 columns]"
      ]
     },
     "execution_count": 60,
     "metadata": {},
     "output_type": "execute_result"
    }
   ],
   "source": [
    "algo_test"
   ]
  },
  {
   "cell_type": "code",
   "execution_count": 64,
   "id": "00e4bd71",
   "metadata": {},
   "outputs": [],
   "source": [
    "lala = performance_distr['params'].values.tolist()"
   ]
  },
  {
   "cell_type": "code",
   "execution_count": 65,
   "id": "b78ad7ba",
   "metadata": {},
   "outputs": [],
   "source": [
    "df = pd.DataFrame(lala)"
   ]
  },
  {
   "cell_type": "code",
   "execution_count": 66,
   "id": "00c1c7a4",
   "metadata": {},
   "outputs": [],
   "source": [
    "data_type = df.dtypes.to_dict()"
   ]
  },
  {
   "cell_type": "code",
   "execution_count": 67,
   "id": "1d5384fe",
   "metadata": {},
   "outputs": [],
   "source": [
    "median = df.median().to_frame().T"
   ]
  },
  {
   "cell_type": "code",
   "execution_count": 68,
   "id": "6bfa9700",
   "metadata": {},
   "outputs": [
    {
     "data": {
      "text/html": [
       "<div>\n",
       "<style scoped>\n",
       "    .dataframe tbody tr th:only-of-type {\n",
       "        vertical-align: middle;\n",
       "    }\n",
       "\n",
       "    .dataframe tbody tr th {\n",
       "        vertical-align: top;\n",
       "    }\n",
       "\n",
       "    .dataframe thead th {\n",
       "        text-align: right;\n",
       "    }\n",
       "</style>\n",
       "<table border=\"1\" class=\"dataframe\">\n",
       "  <thead>\n",
       "    <tr style=\"text-align: right;\">\n",
       "      <th></th>\n",
       "      <th>learning_rate</th>\n",
       "      <th>max_depth</th>\n",
       "      <th>n_estimators</th>\n",
       "      <th>n_jobs</th>\n",
       "    </tr>\n",
       "  </thead>\n",
       "  <tbody>\n",
       "    <tr>\n",
       "      <th>0</th>\n",
       "      <td>0.09</td>\n",
       "      <td>3.0</td>\n",
       "      <td>60.0</td>\n",
       "      <td>-1.0</td>\n",
       "    </tr>\n",
       "  </tbody>\n",
       "</table>\n",
       "</div>"
      ],
      "text/plain": [
       "   learning_rate  max_depth  n_estimators  n_jobs\n",
       "0           0.09        3.0          60.0    -1.0"
      ]
     },
     "execution_count": 68,
     "metadata": {},
     "output_type": "execute_result"
    }
   ],
   "source": [
    "median"
   ]
  },
  {
   "cell_type": "code",
   "execution_count": 69,
   "id": "0c7df950",
   "metadata": {
    "scrolled": true
   },
   "outputs": [],
   "source": [
    "median = median.astype(dtype=data_type)"
   ]
  },
  {
   "cell_type": "code",
   "execution_count": 17,
   "id": "b01fc155",
   "metadata": {},
   "outputs": [
    {
     "data": {
      "text/plain": [
       "array([2448, 3650, 3058])"
      ]
     },
     "execution_count": 17,
     "metadata": {},
     "output_type": "execute_result"
    }
   ],
   "source": [
    "np.random.randint(low=0, high=5000, size=(3,))"
   ]
  },
  {
   "cell_type": "markdown",
   "id": "9ca7ba54",
   "metadata": {},
   "source": [
    "# Performance metrics evaluation"
   ]
  },
  {
   "cell_type": "code",
   "execution_count": null,
   "id": "0e768060",
   "metadata": {},
   "outputs": [],
   "source": [
    "# store all test results for best models and plot confusion matrices\n",
    "all_tst_preds = pd.DataFrame(columns = best_models['algorithm'])\n",
    "for ix, row in best_models.iterrows():\n",
    "    tst_preds, _ = single_model_cv_and_test(folds,row['algorithm'],row['params'],X_test,y_test)    \n",
    "    _, ax = get_confusion_matrix(y_test, tst_preds, plot=True)\n",
    "    ax.set_title('Confusion Matrix for '+ row['algorithm'], fontsize=16)\n",
    "    all_tst_preds[row['algorithm']]=tst_preds\n"
   ]
  },
  {
   "cell_type": "code",
   "execution_count": null,
   "id": "2fd70f92",
   "metadata": {},
   "outputs": [],
   "source": [
    "# confusion matrix of majority vote ensemble\n",
    "ens_preds = all_tst_preds.max(axis=1)\n",
    "_, ax = get_confusion_matrix(y_test, ens_preds, plot=True)\n",
    "ax.set_title('Confusion Matrix for Ensemble ', fontsize=16);"
   ]
  },
  {
   "cell_type": "code",
   "execution_count": null,
   "id": "8659a808",
   "metadata": {},
   "outputs": [],
   "source": [
    "# f1 scores\n",
    "from sklearn.metrics import f1_score\n",
    "\n",
    "# store all test results for best models and plot confusion matrices\n",
    "for algorithm in all_tst_preds.columns:\n",
    "    print(f\"{algorithm}\\ttest f1_score={f1_score(y_test, all_tst_preds[algorithm], average='micro'):.3f}\".expandtabs(30))\n",
    "    \n",
    "print(f\"{'Ensemble'}\\ttest f1_score={f1_score(y_test, ens_preds, average='micro'):.3f}\".expandtabs(30))\n"
   ]
  }
 ],
 "metadata": {
  "kernelspec": {
   "display_name": "my-conda-env-kernel",
   "language": "python",
   "name": "my-conda-env-kernel"
  },
  "language_info": {
   "codemirror_mode": {
    "name": "ipython",
    "version": 3
   },
   "file_extension": ".py",
   "mimetype": "text/x-python",
   "name": "python",
   "nbconvert_exporter": "python",
   "pygments_lexer": "ipython3",
   "version": "3.9.4"
  }
 },
 "nbformat": 4,
 "nbformat_minor": 5
}
