{
 "cells": [
  {
   "cell_type": "code",
   "execution_count": 1,
   "id": "714d10ed",
   "metadata": {},
   "outputs": [],
   "source": [
    "import utils"
   ]
  },
  {
   "cell_type": "code",
   "execution_count": 4,
   "id": "2757ff34",
   "metadata": {},
   "outputs": [],
   "source": [
    "# read the configuration file\n",
    "cfg = utils.read_config('config.yaml')"
   ]
  },
  {
   "cell_type": "code",
   "execution_count": 5,
   "id": "2080b88f",
   "metadata": {},
   "outputs": [],
   "source": [
    "# load dataset\n",
    "allData = utils.load_data(cfg['dataset'])\n"
   ]
  },
  {
   "cell_type": "code",
   "execution_count": 6,
   "id": "84db1392",
   "metadata": {},
   "outputs": [],
   "source": [
    "# process dataset (separate features & classes, split in train and test)\n",
    "\n",
    "X_cv, X_test, y_cv, y_test = utils.data_prep(allData, cfg['features'], cfg['target'],\n",
    "                                                  randomState= 55, testSize= 0.25)"
   ]
  },
  {
   "cell_type": "code",
   "execution_count": null,
   "id": "f4a2a04e",
   "metadata": {
    "scrolled": false
   },
   "outputs": [],
   "source": [
    "score_matrix, best_parameters = utils.run_CV(cfg, X_cv, y_cv)"
   ]
  },
  {
   "cell_type": "code",
   "execution_count": 7,
   "id": "61078bc3",
   "metadata": {},
   "outputs": [
    {
     "name": "stdout",
     "output_type": "stream",
     "text": [
      "               precision    recall  f1-score   support\n",
      "\n",
      "      Bathtub       0.17      0.79      0.28       432\n",
      "Clotheswasher       0.20      0.26      0.22      2759\n",
      "       Cooler       0.01      0.80      0.03        20\n",
      "   Dishwasher       0.07      0.88      0.13      1052\n",
      "       Faucet       0.98      0.81      0.88    123663\n",
      "      Faucet1       0.05      0.12      0.07       592\n",
      "   Humidifier       0.14      0.86      0.23      1298\n",
      "   Irrigation       0.65      0.60      0.62      1220\n",
      "        Other       0.84      0.63      0.72     27540\n",
      "         Pool       0.34      0.72      0.46      1514\n",
      "       Shower       0.61      0.87      0.72      4283\n",
      "       Toilet       0.82      0.87      0.85     30965\n",
      "\n",
      "     accuracy                           0.78    195338\n",
      "    macro avg       0.41      0.68      0.44    195338\n",
      " weighted avg       0.89      0.78      0.82    195338\n",
      "\n"
     ]
    }
   ],
   "source": [
    "best_models = utils.run_best_model(cfg['algorithm'], best_parameters,X_cv, X_test, y_cv, y_test )"
   ]
  },
  {
   "cell_type": "code",
   "execution_count": null,
   "id": "bc9353a5",
   "metadata": {},
   "outputs": [],
   "source": []
  },
  {
   "cell_type": "code",
   "execution_count": null,
   "id": "b5656391",
   "metadata": {},
   "outputs": [],
   "source": []
  }
 ],
 "metadata": {
  "kernelspec": {
   "display_name": "my-conda-env-kernel",
   "language": "python",
   "name": "my-conda-env-kernel"
  },
  "language_info": {
   "codemirror_mode": {
    "name": "ipython",
    "version": 3
   },
   "file_extension": ".py",
   "mimetype": "text/x-python",
   "name": "python",
   "nbconvert_exporter": "python",
   "pygments_lexer": "ipython3",
   "version": "3.9.4"
  }
 },
 "nbformat": 4,
 "nbformat_minor": 5
}
