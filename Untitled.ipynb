{
 "cells": [
  {
   "cell_type": "code",
   "execution_count": 1,
   "id": "211e8353",
   "metadata": {},
   "outputs": [],
   "source": [
    "import multiprocessing\n",
    "import time"
   ]
  },
  {
   "cell_type": "code",
   "execution_count": 6,
   "id": "7f2272e3",
   "metadata": {},
   "outputs": [],
   "source": [
    "# dict for choosing model \n",
    "algorithms = {'RandomForestClassifier' : RandomForestClassifier,\n",
    "               'LGBMClassifier': LGBMClassifier,\n",
    "               }        # add ANN \n",
    "\n",
    "# assigning number of folds\n",
    "skf = StratifiedKFold(n_splits= configfile['n-folds'])\n",
    "\n",
    "# initialize dict for best parameters\n",
    "best_params = {}\n",
    "\n",
    "# initialize matrix for all performances\n",
    "all_scores = pd.DataFrame()\n",
    "\n",
    "\n",
    "for i in configfile['algorithm']:\n",
    "    \n",
    "    # create parameter grid for algorithm\n",
    "    grid = ParameterGrid(configfile['hyperParams'][i])\n",
    "    \n",
    "    # initialize max time for model cross-validation\n",
    "    start_time = time.time()\n",
    "    \n",
    "    \n",
    "    \n",
    "    print('Start cross-validation for ' + str(i))\n",
    "    \n",
    "   \n",
    "    \n",
    "    while time.time() < start_time + configfile['max_time']:\n",
    "        \n",
    "        for params in grid:\n",
    "            \n",
    "            # initialize list for prediction performance\n",
    "            pred = []\n",
    "            \n",
    "            \n",
    "            progress = tqdm(total = configfile['n-folds'], desc='Folds' )\n",
    "        \n",
    "            # split data for Cross-Validation\n",
    "            for train_index, val_index in skf.split(X_cv, y_cv):\n",
    "    \n",
    "                X_train, X_val = X_cv.iloc[train_index], X_cv.iloc[val_index]\n",
    "                y_train, y_val = y_cv.iloc[train_index], y_cv.iloc[val_index]\n",
    "    \n",
    "                # build model\n",
    "                model = algorithms[i](**params)\n",
    "                # fit model to train data\n",
    "                model.fit(X_train, y_train)\n",
    "                # predict on validation fold\n",
    "                prediction = model.predict(X_val)\n",
    "                Fscore = f1_score(y_val, prediction, average='micro')\n",
    "                pred.append(Fscore)\n",
    "                \n",
    "                progress.update(1)\n",
    "                \n",
    "            all_scores = pd.concat([all_scores,pd.DataFrame([{'algorithm':i, 'params':params, 'cv_scores':pred, 'avg_score':np.mean(pred)}])])\n",
    "        \n",
    "        # if all combinations are trained before max time is reached\n",
    "        break\n",
    "    time.sleep(0.5)\n",
    " \n",
    "        \n",
    "    #    \n",
    "    all_scores.reset_index(drop=True, inplace=True)\n",
    "    max_score = all_scores.avg_score.loc[all_scores.algorithm == i].max()\n",
    "    idxmax_score = all_scores.avg_score.loc[all_scores.algorithm == i].idxmax()\n",
    "    \n",
    "    best_params[i] = {'best_params': all_scores.params.iloc[idxmax_score], \n",
    "                       'F1 micro score': max_score}\n",
    "\n"
   ]
  },
  {
   "cell_type": "code",
   "execution_count": 7,
   "id": "8d4106a8",
   "metadata": {
    "scrolled": true
   },
   "outputs": [],
   "source": [
    "p = multiprocessing.Process(target=foo, name=\"Foo\", args=(10,))\n",
    "p.start()\n",
    "\n",
    "time.sleep(100)\n",
    "# Terminate foo\n",
    "p.terminate()\n",
    "\n",
    "# Cleanup\n",
    "p.join()"
   ]
  },
  {
   "cell_type": "code",
   "execution_count": 15,
   "id": "8997260d",
   "metadata": {},
   "outputs": [],
   "source": [
    "def hu(i):\n",
    "    for x in range(i):\n",
    "        k = 2*x   \n",
    "        return k\n",
    "\n",
    "\n"
   ]
  },
  {
   "cell_type": "code",
   "execution_count": 18,
   "id": "e3a11273",
   "metadata": {},
   "outputs": [
    {
     "data": {
      "text/plain": [
       "0"
      ]
     },
     "execution_count": 18,
     "metadata": {},
     "output_type": "execute_result"
    }
   ],
   "source": [
    "hu(7)"
   ]
  },
  {
   "cell_type": "code",
   "execution_count": null,
   "id": "51503221",
   "metadata": {},
   "outputs": [],
   "source": []
  }
 ],
 "metadata": {
  "kernelspec": {
   "display_name": "my-conda-env-kernel",
   "language": "python",
   "name": "my-conda-env-kernel"
  },
  "language_info": {
   "codemirror_mode": {
    "name": "ipython",
    "version": 3
   },
   "file_extension": ".py",
   "mimetype": "text/x-python",
   "name": "python",
   "nbconvert_exporter": "python",
   "pygments_lexer": "ipython3",
   "version": "3.9.4"
  }
 },
 "nbformat": 4,
 "nbformat_minor": 5
}
