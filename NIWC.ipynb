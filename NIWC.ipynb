{
 "cells": [
  {
   "cell_type": "code",
   "execution_count": 1,
   "id": "5ddb278b",
   "metadata": {},
   "outputs": [],
   "source": [
    "# imports\n",
    "from utils import *"
   ]
  },
  {
   "cell_type": "code",
   "execution_count": 23,
   "id": "9c2dc72c",
   "metadata": {},
   "outputs": [],
   "source": [
    "# read the configuration file and initialize random generators\n",
    "cfg = read_config('configfiles/config.yaml')\n",
    "seeds = read_config('configfiles/seed_config.yaml')\n",
    "initalize_random_generators(seeds)"
   ]
  },
  {
   "cell_type": "markdown",
   "id": "9fd176df",
   "metadata": {},
   "source": [
    "# Data loading and processing"
   ]
  },
  {
   "cell_type": "code",
   "execution_count": 3,
   "id": "420b8999",
   "metadata": {},
   "outputs": [],
   "source": [
    "# load dataset \n",
    "allData = load_data(cfg['dataset']) #RT: added frac to speed-up trials and debugging"
   ]
  },
  {
   "cell_type": "code",
   "execution_count": 4,
   "id": "85fee77a",
   "metadata": {},
   "outputs": [],
   "source": [
    "# process dataset (separate features & classes, split in train and test, reduce train size if needed)\n",
    "X_cv, X_test, y_cv, y_test = data_prep(allData, cfg['features'], cfg['target'],\n",
    "                                       randomState=seeds['dprep_seed'], \n",
    "                                       testSize=cfg['frac_tst'], \n",
    "                                       trainSize=cfg['train_size'])"
   ]
  },
  {
   "cell_type": "code",
   "execution_count": 5,
   "id": "b44293f9",
   "metadata": {},
   "outputs": [],
   "source": [
    "# create folds using smoter (created beforehand to speed-up computation)\n",
    "smoter = SMOTE(random_state=seeds['smote_seed'], sampling_strategy='auto', \n",
    "               k_neighbors = cfg['smote_kneighbors'], n_jobs = -1)\n",
    "folds = create_folds_with_SMOTE(X_cv, y_cv, n_splits=cfg['n-folds'], smoter=None)"
   ]
  },
  {
   "cell_type": "markdown",
   "id": "711286ab",
   "metadata": {},
   "source": [
    "# Model training and testing"
   ]
  },
  {
   "cell_type": "code",
   "execution_count": 24,
   "id": "2b1c81d6",
   "metadata": {
    "scrolled": true
   },
   "outputs": [
    {
     "name": "stdout",
     "output_type": "stream",
     "text": [
      "Start hyperparameter search for seed 0\n",
      "Start cross-validation for LogisticRegression\n",
      "Parameter combination 1/1\n"
     ]
    },
    {
     "data": {
      "application/vnd.jupyter.widget-view+json": {
       "model_id": "a6d4a07b26f54e8b81ab7902900f79d6",
       "version_major": 2,
       "version_minor": 0
      },
      "text/plain": [
       "  0%|          | 0/5 [00:00<?, ?it/s]"
      ]
     },
     "metadata": {},
     "output_type": "display_data"
    },
    {
     "name": "stdout",
     "output_type": "stream",
     "text": [
      "Start cross-validation for LGBMClassifier\n",
      "Parameter combination 1/2\n"
     ]
    },
    {
     "data": {
      "application/vnd.jupyter.widget-view+json": {
       "model_id": "d39db2ebc98445c7b5706fb27801b366",
       "version_major": 2,
       "version_minor": 0
      },
      "text/plain": [
       "  0%|          | 0/5 [00:00<?, ?it/s]"
      ]
     },
     "metadata": {},
     "output_type": "display_data"
    },
    {
     "name": "stdout",
     "output_type": "stream",
     "text": [
      "Parameter combination 2/2\n"
     ]
    },
    {
     "data": {
      "application/vnd.jupyter.widget-view+json": {
       "model_id": "6d12dab5d96b45f5bd2abb3769f3c29e",
       "version_major": 2,
       "version_minor": 0
      },
      "text/plain": [
       "  0%|          | 0/5 [00:00<?, ?it/s]"
      ]
     },
     "metadata": {},
     "output_type": "display_data"
    },
    {
     "name": "stdout",
     "output_type": "stream",
     "text": [
      "Start hyperparameter search for seed 1\n",
      "Start cross-validation for LogisticRegression\n",
      "Parameter combination 1/1\n"
     ]
    },
    {
     "data": {
      "application/vnd.jupyter.widget-view+json": {
       "model_id": "ab1cd2fe7701402c8895c31e3629bdd5",
       "version_major": 2,
       "version_minor": 0
      },
      "text/plain": [
       "  0%|          | 0/5 [00:00<?, ?it/s]"
      ]
     },
     "metadata": {},
     "output_type": "display_data"
    },
    {
     "name": "stdout",
     "output_type": "stream",
     "text": [
      "Start cross-validation for LGBMClassifier\n",
      "Parameter combination 1/2\n"
     ]
    },
    {
     "data": {
      "application/vnd.jupyter.widget-view+json": {
       "model_id": "02e1cc7feae048b0a98e88a4fa09b2c2",
       "version_major": 2,
       "version_minor": 0
      },
      "text/plain": [
       "  0%|          | 0/5 [00:00<?, ?it/s]"
      ]
     },
     "metadata": {},
     "output_type": "display_data"
    },
    {
     "name": "stdout",
     "output_type": "stream",
     "text": [
      "Parameter combination 2/2\n"
     ]
    },
    {
     "data": {
      "application/vnd.jupyter.widget-view+json": {
       "model_id": "90048051e62745c78c1d326dabbe2f21",
       "version_major": 2,
       "version_minor": 0
      },
      "text/plain": [
       "  0%|          | 0/5 [00:00<?, ?it/s]"
      ]
     },
     "metadata": {},
     "output_type": "display_data"
    },
    {
     "name": "stdout",
     "output_type": "stream",
     "text": [
      "Start hyperparameter search for seed 2\n",
      "Start cross-validation for LogisticRegression\n",
      "Parameter combination 1/1\n"
     ]
    },
    {
     "data": {
      "application/vnd.jupyter.widget-view+json": {
       "model_id": "35cd9a63e5654f668bad5b2f12c93156",
       "version_major": 2,
       "version_minor": 0
      },
      "text/plain": [
       "  0%|          | 0/5 [00:00<?, ?it/s]"
      ]
     },
     "metadata": {},
     "output_type": "display_data"
    },
    {
     "name": "stdout",
     "output_type": "stream",
     "text": [
      "Start cross-validation for LGBMClassifier\n",
      "Parameter combination 1/2\n"
     ]
    },
    {
     "data": {
      "application/vnd.jupyter.widget-view+json": {
       "model_id": "cdfa1396901844cb82781fb302360982",
       "version_major": 2,
       "version_minor": 0
      },
      "text/plain": [
       "  0%|          | 0/5 [00:00<?, ?it/s]"
      ]
     },
     "metadata": {},
     "output_type": "display_data"
    },
    {
     "name": "stdout",
     "output_type": "stream",
     "text": [
      "Parameter combination 2/2\n"
     ]
    },
    {
     "data": {
      "application/vnd.jupyter.widget-view+json": {
       "model_id": "5798bcacfad8417e93425b887e9fcbc2",
       "version_major": 2,
       "version_minor": 0
      },
      "text/plain": [
       "  0%|          | 0/5 [00:00<?, ?it/s]"
      ]
     },
     "metadata": {},
     "output_type": "display_data"
    },
    {
     "name": "stdout",
     "output_type": "stream",
     "text": [
      "Start hyperparameter search for seed 3\n",
      "Start cross-validation for LogisticRegression\n",
      "Parameter combination 1/1\n"
     ]
    },
    {
     "data": {
      "application/vnd.jupyter.widget-view+json": {
       "model_id": "63a169b39b4f48e38605dcaa9ae1c0e1",
       "version_major": 2,
       "version_minor": 0
      },
      "text/plain": [
       "  0%|          | 0/5 [00:00<?, ?it/s]"
      ]
     },
     "metadata": {},
     "output_type": "display_data"
    },
    {
     "name": "stdout",
     "output_type": "stream",
     "text": [
      "Start cross-validation for LGBMClassifier\n",
      "Parameter combination 1/2\n"
     ]
    },
    {
     "data": {
      "application/vnd.jupyter.widget-view+json": {
       "model_id": "46fca8e8b18449529c9246bdc731c60b",
       "version_major": 2,
       "version_minor": 0
      },
      "text/plain": [
       "  0%|          | 0/5 [00:00<?, ?it/s]"
      ]
     },
     "metadata": {},
     "output_type": "display_data"
    },
    {
     "name": "stdout",
     "output_type": "stream",
     "text": [
      "Parameter combination 2/2\n"
     ]
    },
    {
     "data": {
      "application/vnd.jupyter.widget-view+json": {
       "model_id": "3c37311b837948999bd8447bc6807dfc",
       "version_major": 2,
       "version_minor": 0
      },
      "text/plain": [
       "  0%|          | 0/5 [00:00<?, ?it/s]"
      ]
     },
     "metadata": {},
     "output_type": "display_data"
    },
    {
     "name": "stdout",
     "output_type": "stream",
     "text": [
      "Start hyperparameter search for seed 4\n",
      "Start cross-validation for LogisticRegression\n",
      "Parameter combination 1/1\n"
     ]
    },
    {
     "data": {
      "application/vnd.jupyter.widget-view+json": {
       "model_id": "d33f07bcc5834b34b9ef5187dd58e862",
       "version_major": 2,
       "version_minor": 0
      },
      "text/plain": [
       "  0%|          | 0/5 [00:00<?, ?it/s]"
      ]
     },
     "metadata": {},
     "output_type": "display_data"
    },
    {
     "name": "stdout",
     "output_type": "stream",
     "text": [
      "Start cross-validation for LGBMClassifier\n",
      "Parameter combination 1/2\n"
     ]
    },
    {
     "data": {
      "application/vnd.jupyter.widget-view+json": {
       "model_id": "47e9685fc77a431f954832eed3711d15",
       "version_major": 2,
       "version_minor": 0
      },
      "text/plain": [
       "  0%|          | 0/5 [00:00<?, ?it/s]"
      ]
     },
     "metadata": {},
     "output_type": "display_data"
    },
    {
     "name": "stdout",
     "output_type": "stream",
     "text": [
      "Parameter combination 2/2\n"
     ]
    },
    {
     "data": {
      "application/vnd.jupyter.widget-view+json": {
       "model_id": "c2a64eac781c486e82e03377673e080f",
       "version_major": 2,
       "version_minor": 0
      },
      "text/plain": [
       "  0%|          | 0/5 [00:00<?, ?it/s]"
      ]
     },
     "metadata": {},
     "output_type": "display_data"
    },
    {
     "name": "stdout",
     "output_type": "stream",
     "text": [
      "Start hyperparameter search for seed 5\n",
      "Start cross-validation for LogisticRegression\n",
      "Parameter combination 1/1\n"
     ]
    },
    {
     "data": {
      "application/vnd.jupyter.widget-view+json": {
       "model_id": "4332a87e8faa44e080f5d97dc7995664",
       "version_major": 2,
       "version_minor": 0
      },
      "text/plain": [
       "  0%|          | 0/5 [00:00<?, ?it/s]"
      ]
     },
     "metadata": {},
     "output_type": "display_data"
    },
    {
     "name": "stdout",
     "output_type": "stream",
     "text": [
      "Start cross-validation for LGBMClassifier\n",
      "Parameter combination 1/2\n"
     ]
    },
    {
     "data": {
      "application/vnd.jupyter.widget-view+json": {
       "model_id": "ee32ab357cd54974b47c1eed0929ec7a",
       "version_major": 2,
       "version_minor": 0
      },
      "text/plain": [
       "  0%|          | 0/5 [00:00<?, ?it/s]"
      ]
     },
     "metadata": {},
     "output_type": "display_data"
    },
    {
     "name": "stdout",
     "output_type": "stream",
     "text": [
      "Parameter combination 2/2\n"
     ]
    },
    {
     "data": {
      "application/vnd.jupyter.widget-view+json": {
       "model_id": "fd5cdf01ea5141ad9e83555f746497cf",
       "version_major": 2,
       "version_minor": 0
      },
      "text/plain": [
       "  0%|          | 0/5 [00:00<?, ?it/s]"
      ]
     },
     "metadata": {},
     "output_type": "display_data"
    },
    {
     "name": "stdout",
     "output_type": "stream",
     "text": [
      "Start hyperparameter search for seed 6\n",
      "Start cross-validation for LogisticRegression\n",
      "Parameter combination 1/1\n"
     ]
    },
    {
     "data": {
      "application/vnd.jupyter.widget-view+json": {
       "model_id": "784595103aa54a2d93b7a15f3e33a894",
       "version_major": 2,
       "version_minor": 0
      },
      "text/plain": [
       "  0%|          | 0/5 [00:00<?, ?it/s]"
      ]
     },
     "metadata": {},
     "output_type": "display_data"
    },
    {
     "name": "stdout",
     "output_type": "stream",
     "text": [
      "Start cross-validation for LGBMClassifier\n",
      "Parameter combination 1/2\n"
     ]
    },
    {
     "data": {
      "application/vnd.jupyter.widget-view+json": {
       "model_id": "9d02d315f2734ca3afb54a9ea5a1f8d0",
       "version_major": 2,
       "version_minor": 0
      },
      "text/plain": [
       "  0%|          | 0/5 [00:00<?, ?it/s]"
      ]
     },
     "metadata": {},
     "output_type": "display_data"
    },
    {
     "name": "stdout",
     "output_type": "stream",
     "text": [
      "Parameter combination 2/2\n"
     ]
    },
    {
     "data": {
      "application/vnd.jupyter.widget-view+json": {
       "model_id": "73eb741b4bff4ca28d078ec7fab3fd78",
       "version_major": 2,
       "version_minor": 0
      },
      "text/plain": [
       "  0%|          | 0/5 [00:00<?, ?it/s]"
      ]
     },
     "metadata": {},
     "output_type": "display_data"
    },
    {
     "name": "stdout",
     "output_type": "stream",
     "text": [
      "Start hyperparameter search for seed 7\n",
      "Start cross-validation for LogisticRegression\n",
      "Parameter combination 1/1\n"
     ]
    },
    {
     "data": {
      "application/vnd.jupyter.widget-view+json": {
       "model_id": "80de75c2e01e4710b592c45fb307325d",
       "version_major": 2,
       "version_minor": 0
      },
      "text/plain": [
       "  0%|          | 0/5 [00:00<?, ?it/s]"
      ]
     },
     "metadata": {},
     "output_type": "display_data"
    },
    {
     "name": "stdout",
     "output_type": "stream",
     "text": [
      "Start cross-validation for LGBMClassifier\n",
      "Parameter combination 1/2\n"
     ]
    },
    {
     "data": {
      "application/vnd.jupyter.widget-view+json": {
       "model_id": "17ca30d00b3042cbb3d94b5e82617fd5",
       "version_major": 2,
       "version_minor": 0
      },
      "text/plain": [
       "  0%|          | 0/5 [00:00<?, ?it/s]"
      ]
     },
     "metadata": {},
     "output_type": "display_data"
    },
    {
     "name": "stdout",
     "output_type": "stream",
     "text": [
      "Parameter combination 2/2\n"
     ]
    },
    {
     "data": {
      "application/vnd.jupyter.widget-view+json": {
       "model_id": "bfe6b13d0b704175ab4d6ebe6740ddad",
       "version_major": 2,
       "version_minor": 0
      },
      "text/plain": [
       "  0%|          | 0/5 [00:00<?, ?it/s]"
      ]
     },
     "metadata": {},
     "output_type": "display_data"
    },
    {
     "name": "stdout",
     "output_type": "stream",
     "text": [
      "Start hyperparameter search for seed 8\n",
      "Start cross-validation for LogisticRegression\n",
      "Parameter combination 1/1\n"
     ]
    },
    {
     "data": {
      "application/vnd.jupyter.widget-view+json": {
       "model_id": "77f90aff8b164fdebded511e9c651bd0",
       "version_major": 2,
       "version_minor": 0
      },
      "text/plain": [
       "  0%|          | 0/5 [00:00<?, ?it/s]"
      ]
     },
     "metadata": {},
     "output_type": "display_data"
    },
    {
     "name": "stdout",
     "output_type": "stream",
     "text": [
      "Start cross-validation for LGBMClassifier\n",
      "Parameter combination 1/2\n"
     ]
    },
    {
     "data": {
      "application/vnd.jupyter.widget-view+json": {
       "model_id": "9c3f1206498142fd8a517948052cadce",
       "version_major": 2,
       "version_minor": 0
      },
      "text/plain": [
       "  0%|          | 0/5 [00:00<?, ?it/s]"
      ]
     },
     "metadata": {},
     "output_type": "display_data"
    },
    {
     "name": "stdout",
     "output_type": "stream",
     "text": [
      "Parameter combination 2/2\n"
     ]
    },
    {
     "data": {
      "application/vnd.jupyter.widget-view+json": {
       "model_id": "5560cb60525646098e0259ab1aee675b",
       "version_major": 2,
       "version_minor": 0
      },
      "text/plain": [
       "  0%|          | 0/5 [00:00<?, ?it/s]"
      ]
     },
     "metadata": {},
     "output_type": "display_data"
    },
    {
     "name": "stdout",
     "output_type": "stream",
     "text": [
      "Start hyperparameter search for seed 9\n",
      "Start cross-validation for LogisticRegression\n",
      "Parameter combination 1/1\n"
     ]
    },
    {
     "data": {
      "application/vnd.jupyter.widget-view+json": {
       "model_id": "e54e01713a7f4284bb36da401e6aabc7",
       "version_major": 2,
       "version_minor": 0
      },
      "text/plain": [
       "  0%|          | 0/5 [00:00<?, ?it/s]"
      ]
     },
     "metadata": {},
     "output_type": "display_data"
    },
    {
     "name": "stdout",
     "output_type": "stream",
     "text": [
      "Start cross-validation for LGBMClassifier\n",
      "Parameter combination 1/2\n"
     ]
    },
    {
     "data": {
      "application/vnd.jupyter.widget-view+json": {
       "model_id": "8fe20456183649aeb94ebcd95ac42db5",
       "version_major": 2,
       "version_minor": 0
      },
      "text/plain": [
       "  0%|          | 0/5 [00:00<?, ?it/s]"
      ]
     },
     "metadata": {},
     "output_type": "display_data"
    },
    {
     "name": "stdout",
     "output_type": "stream",
     "text": [
      "Parameter combination 2/2\n"
     ]
    },
    {
     "data": {
      "application/vnd.jupyter.widget-view+json": {
       "model_id": "ed97aecd6c5c4814a58c5b9bba9261ec",
       "version_major": 2,
       "version_minor": 0
      },
      "text/plain": [
       "  0%|          | 0/5 [00:00<?, ?it/s]"
      ]
     },
     "metadata": {},
     "output_type": "display_data"
    }
   ],
   "source": [
    "# find best parameters for each algorithm via cross-validation\n",
    "# run for 10 different starting seeds\n",
    "for i in range(10):\n",
    "    print('Start hyperparameter search for seed ' + str(i))\n",
    "    initalize_random_generators(seeds, i)\n",
    "    # find best parameters for each algorithm via cross-validation\n",
    "    results = cv_model_selection(folds, cfg, i)\n",
    "    # save results\n",
    "    results.to_pickle('cv_results/cv_results_seed{}'.format(i))\n"
   ]
  },
  {
   "cell_type": "code",
   "execution_count": 25,
   "id": "6f3aba82",
   "metadata": {
    "scrolled": false
   },
   "outputs": [],
   "source": [
    "# select best params combination for each algorithm\n",
    "best_models, performance_distr = best_model_selection(cfg, 10)"
   ]
  },
  {
   "cell_type": "code",
   "execution_count": 26,
   "id": "a0b774b4",
   "metadata": {},
   "outputs": [
    {
     "data": {
      "text/html": [
       "<div>\n",
       "<style scoped>\n",
       "    .dataframe tbody tr th:only-of-type {\n",
       "        vertical-align: middle;\n",
       "    }\n",
       "\n",
       "    .dataframe tbody tr th {\n",
       "        vertical-align: top;\n",
       "    }\n",
       "\n",
       "    .dataframe thead th {\n",
       "        text-align: right;\n",
       "    }\n",
       "</style>\n",
       "<table border=\"1\" class=\"dataframe\">\n",
       "  <thead>\n",
       "    <tr style=\"text-align: right;\">\n",
       "      <th></th>\n",
       "      <th>algorithm</th>\n",
       "      <th>params</th>\n",
       "      <th>median_f1score</th>\n",
       "    </tr>\n",
       "  </thead>\n",
       "  <tbody>\n",
       "    <tr>\n",
       "      <th>0</th>\n",
       "      <td>LGBMClassifier</td>\n",
       "      <td>{'learning_rate': 0.1, 'max_depth': 3, 'n_esti...</td>\n",
       "      <td>0.812635</td>\n",
       "    </tr>\n",
       "    <tr>\n",
       "      <th>1</th>\n",
       "      <td>LogisticRegression</td>\n",
       "      <td>{'C': 0.1, 'n_jobs': -1, 'penalty': 'l2', 'sol...</td>\n",
       "      <td>0.732022</td>\n",
       "    </tr>\n",
       "  </tbody>\n",
       "</table>\n",
       "</div>"
      ],
      "text/plain": [
       "            algorithm                                             params  \\\n",
       "0      LGBMClassifier  {'learning_rate': 0.1, 'max_depth': 3, 'n_esti...   \n",
       "1  LogisticRegression  {'C': 0.1, 'n_jobs': -1, 'penalty': 'l2', 'sol...   \n",
       "\n",
       "   median_f1score  \n",
       "0        0.812635  \n",
       "1        0.732022  "
      ]
     },
     "execution_count": 26,
     "metadata": {},
     "output_type": "execute_result"
    }
   ],
   "source": [
    "best_models"
   ]
  },
  {
   "cell_type": "markdown",
   "id": "9ca7ba54",
   "metadata": {},
   "source": [
    "# Performance Assesment"
   ]
  },
  {
   "cell_type": "code",
   "execution_count": null,
   "id": "0e768060",
   "metadata": {},
   "outputs": [],
   "source": [
    "initialize_random_generators(seeds, 10)\n",
    "# store all test results for best models and plot confusion matrices\n",
    "all_tst_preds = pd.DataFrame(columns = best_models['algorithm'])\n",
    "for ix, row in best_models.iterrows():\n",
    "    tst_preds, _ = single_model_cv_and_test(folds,row['algorithm'],row['params'],X_test,y_test)    \n",
    "    _, ax = get_confusion_matrix(y_test, tst_preds, plot=True)\n",
    "    ax.set_title('Confusion Matrix for '+ row['algorithm'], fontsize=16)\n",
    "    all_tst_preds[row['algorithm']]=tst_preds\n"
   ]
  },
  {
   "cell_type": "code",
   "execution_count": null,
   "id": "2fd70f92",
   "metadata": {},
   "outputs": [],
   "source": [
    "# confusion matrix of majority vote ensemble\n",
    "ens_preds = all_tst_preds.max(axis=1)\n",
    "_, ax = get_confusion_matrix(y_test, ens_preds, plot=True)\n",
    "ax.set_title('Confusion Matrix for Ensemble ', fontsize=16);"
   ]
  },
  {
   "cell_type": "code",
   "execution_count": null,
   "id": "8659a808",
   "metadata": {},
   "outputs": [],
   "source": [
    "# f1 scores\n",
    "from sklearn.metrics import f1_score\n",
    "\n",
    "# store all test results for best models and plot confusion matrices\n",
    "for algorithm in all_tst_preds.columns:\n",
    "    print(f\"{algorithm}\\ttest f1_score={f1_score(y_test, all_tst_preds[algorithm], average='micro'):.3f}\".expandtabs(30))\n",
    "    \n",
    "print(f\"{'Ensemble'}\\ttest f1_score={f1_score(y_test, ens_preds, average='micro'):.3f}\".expandtabs(30))\n"
   ]
  }
 ],
 "metadata": {
  "kernelspec": {
   "display_name": "my-conda-env-kernel",
   "language": "python",
   "name": "my-conda-env-kernel"
  },
  "language_info": {
   "codemirror_mode": {
    "name": "ipython",
    "version": 3
   },
   "file_extension": ".py",
   "mimetype": "text/x-python",
   "name": "python",
   "nbconvert_exporter": "python",
   "pygments_lexer": "ipython3",
   "version": "3.9.4"
  }
 },
 "nbformat": 4,
 "nbformat_minor": 5
}
