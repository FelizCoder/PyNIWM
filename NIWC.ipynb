{
 "cells": [
  {
   "cell_type": "code",
   "execution_count": 1,
   "id": "714d10ed",
   "metadata": {},
   "outputs": [],
   "source": [
    "import utils"
   ]
  },
  {
   "cell_type": "code",
   "execution_count": 2,
   "id": "2757ff34",
   "metadata": {},
   "outputs": [],
   "source": [
    "# read the configuration file\n",
    "cfg = utils.read_config('config.yaml')"
   ]
  },
  {
   "cell_type": "code",
   "execution_count": 3,
   "id": "2080b88f",
   "metadata": {},
   "outputs": [],
   "source": [
    "# load dataset\n",
    "allData = utils.load_data(cfg['dataset'])\n"
   ]
  },
  {
   "cell_type": "code",
   "execution_count": 4,
   "id": "84db1392",
   "metadata": {},
   "outputs": [],
   "source": [
    "# process dataset (separate features & classes, split in train and test)\n",
    "\n",
    "X_cv, X_test, y_cv, y_test = utils.dataPrep(allData, cfg['features'], cfg['target'],\n",
    "                                                  randomState= 55, testSize= 0.25)"
   ]
  },
  {
   "cell_type": "code",
   "execution_count": 5,
   "id": "f4a2a04e",
   "metadata": {
    "scrolled": true
   },
   "outputs": [],
   "source": [
    "score_matrix, best_parameters = utils.run_CV(cfg, X_cv, y_cv)"
   ]
  },
  {
   "cell_type": "code",
   "execution_count": 6,
   "id": "ff406abb",
   "metadata": {},
   "outputs": [
    {
     "data": {
      "text/html": [
       "<div>\n",
       "<style scoped>\n",
       "    .dataframe tbody tr th:only-of-type {\n",
       "        vertical-align: middle;\n",
       "    }\n",
       "\n",
       "    .dataframe tbody tr th {\n",
       "        vertical-align: top;\n",
       "    }\n",
       "\n",
       "    .dataframe thead th {\n",
       "        text-align: right;\n",
       "    }\n",
       "</style>\n",
       "<table border=\"1\" class=\"dataframe\">\n",
       "  <thead>\n",
       "    <tr style=\"text-align: right;\">\n",
       "      <th></th>\n",
       "      <th>algorithm</th>\n",
       "      <th>params</th>\n",
       "      <th>cv_scores</th>\n",
       "      <th>avg_score</th>\n",
       "    </tr>\n",
       "  </thead>\n",
       "  <tbody>\n",
       "    <tr>\n",
       "      <th>0</th>\n",
       "      <td>RandomForestClassifier</td>\n",
       "      <td>{'max_depth': 10, 'min_samples_leaf': 1, 'min_...</td>\n",
       "      <td>[0.8939851061070422, 0.8920154946161329]</td>\n",
       "      <td>0.893000</td>\n",
       "    </tr>\n",
       "    <tr>\n",
       "      <th>1</th>\n",
       "      <td>LGBMClassifier</td>\n",
       "      <td>{'learning_rate': 0.01, 'max_depth': 3}</td>\n",
       "      <td>[0.8829989829559804, 0.8815822255592908]</td>\n",
       "      <td>0.882291</td>\n",
       "    </tr>\n",
       "  </tbody>\n",
       "</table>\n",
       "</div>"
      ],
      "text/plain": [
       "                algorithm                                             params  \\\n",
       "0  RandomForestClassifier  {'max_depth': 10, 'min_samples_leaf': 1, 'min_...   \n",
       "1          LGBMClassifier            {'learning_rate': 0.01, 'max_depth': 3}   \n",
       "\n",
       "                                  cv_scores  avg_score  \n",
       "0  [0.8939851061070422, 0.8920154946161329]   0.893000  \n",
       "1  [0.8829989829559804, 0.8815822255592908]   0.882291  "
      ]
     },
     "execution_count": 6,
     "metadata": {},
     "output_type": "execute_result"
    }
   ],
   "source": [
    "score_matrix"
   ]
  },
  {
   "cell_type": "code",
   "execution_count": 7,
   "id": "3ac1d4ff",
   "metadata": {},
   "outputs": [
    {
     "data": {
      "text/plain": [
       "{'RandomForestClassifier': {'best_params': {'max_depth': 10,\n",
       "   'min_samples_leaf': 1,\n",
       "   'min_samples_split': 2,\n",
       "   'n_estimators': 100},\n",
       "  'F1 micro score': 0.8930003003615876},\n",
       " 'LGBMClassifier': {'best_params': {'learning_rate': 0.01, 'max_depth': 3},\n",
       "  'F1 micro score': 0.8822906042576356}}"
      ]
     },
     "execution_count": 7,
     "metadata": {},
     "output_type": "execute_result"
    }
   ],
   "source": [
    "best_parameters"
   ]
  },
  {
   "cell_type": "code",
   "execution_count": 9,
   "id": "61078bc3",
   "metadata": {},
   "outputs": [],
   "source": [
    "best_model = utils.run_bestModel(cfg['algorithm'], best_parameters,X_cv, X_test, y_cv, y_test )"
   ]
  },
  {
   "cell_type": "code",
   "execution_count": 10,
   "id": "0664e36b",
   "metadata": {},
   "outputs": [
    {
     "data": {
      "text/html": [
       "<div>\n",
       "<style scoped>\n",
       "    .dataframe tbody tr th:only-of-type {\n",
       "        vertical-align: middle;\n",
       "    }\n",
       "\n",
       "    .dataframe tbody tr th {\n",
       "        vertical-align: top;\n",
       "    }\n",
       "\n",
       "    .dataframe thead th {\n",
       "        text-align: right;\n",
       "    }\n",
       "</style>\n",
       "<table border=\"1\" class=\"dataframe\">\n",
       "  <thead>\n",
       "    <tr style=\"text-align: right;\">\n",
       "      <th></th>\n",
       "      <th>algorithm</th>\n",
       "      <th>F1 score</th>\n",
       "    </tr>\n",
       "  </thead>\n",
       "  <tbody>\n",
       "    <tr>\n",
       "      <th>0</th>\n",
       "      <td>RandomForestClassifier</td>\n",
       "      <td>0.892704</td>\n",
       "    </tr>\n",
       "    <tr>\n",
       "      <th>0</th>\n",
       "      <td>LGBMClassifier</td>\n",
       "      <td>0.881185</td>\n",
       "    </tr>\n",
       "  </tbody>\n",
       "</table>\n",
       "</div>"
      ],
      "text/plain": [
       "                algorithm  F1 score\n",
       "0  RandomForestClassifier  0.892704\n",
       "0          LGBMClassifier  0.881185"
      ]
     },
     "execution_count": 10,
     "metadata": {},
     "output_type": "execute_result"
    }
   ],
   "source": [
    "best_model"
   ]
  },
  {
   "cell_type": "code",
   "execution_count": null,
   "id": "9e2942cc",
   "metadata": {},
   "outputs": [],
   "source": []
  }
 ],
 "metadata": {
  "kernelspec": {
   "display_name": "my-conda-env-kernel",
   "language": "python",
   "name": "my-conda-env-kernel"
  },
  "language_info": {
   "codemirror_mode": {
    "name": "ipython",
    "version": 3
   },
   "file_extension": ".py",
   "mimetype": "text/x-python",
   "name": "python",
   "nbconvert_exporter": "python",
   "pygments_lexer": "ipython3",
   "version": "3.9.4"
  }
 },
 "nbformat": 4,
 "nbformat_minor": 5
}
